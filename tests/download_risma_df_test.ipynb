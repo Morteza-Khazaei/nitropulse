{
 "cells": [
  {
   "cell_type": "code",
   "execution_count": 1,
   "id": "123509d7",
   "metadata": {},
   "outputs": [],
   "source": [
    "from inversion import RismaData"
   ]
  },
  {
   "cell_type": "code",
   "execution_count": 2,
   "id": "b28fb982",
   "metadata": {},
   "outputs": [
    {
     "data": {
      "text/html": [
       "\n",
       "            <style>\n",
       "                .geemap-dark {\n",
       "                    --jp-widgets-color: white;\n",
       "                    --jp-widgets-label-color: white;\n",
       "                    --jp-ui-font-color1: white;\n",
       "                    --jp-layout-color2: #454545;\n",
       "                    background-color: #383838;\n",
       "                }\n",
       "\n",
       "                .geemap-dark .jupyter-button {\n",
       "                    --jp-layout-color3: #383838;\n",
       "                }\n",
       "\n",
       "                .geemap-colab {\n",
       "                    background-color: var(--colab-primary-surface-color, white);\n",
       "                }\n",
       "\n",
       "                .geemap-colab .jupyter-button {\n",
       "                    --jp-layout-color3: var(--colab-primary-surface-color, white);\n",
       "                }\n",
       "            </style>\n",
       "            "
      ],
      "text/plain": [
       "<IPython.core.display.HTML object>"
      ]
     },
     "metadata": {},
     "output_type": "display_data"
    },
    {
     "name": "stdout",
     "output_type": "stream",
     "text": [
      "Found RISMA_CSV folder: RISMA_CSV_files\n",
      "RISMA_CSV folder already exists: ../assets/inputs/RISMA_CSV_files\n"
     ]
    }
   ],
   "source": [
    "risma = RismaData(workspace_dir='../assets')"
   ]
  },
  {
   "cell_type": "code",
   "execution_count": 3,
   "id": "645fd42f",
   "metadata": {},
   "outputs": [
    {
     "data": {
      "text/html": [
       "\n",
       "            <style>\n",
       "                .geemap-dark {\n",
       "                    --jp-widgets-color: white;\n",
       "                    --jp-widgets-label-color: white;\n",
       "                    --jp-ui-font-color1: white;\n",
       "                    --jp-layout-color2: #454545;\n",
       "                    background-color: #383838;\n",
       "                }\n",
       "\n",
       "                .geemap-dark .jupyter-button {\n",
       "                    --jp-layout-color3: #383838;\n",
       "                }\n",
       "\n",
       "                .geemap-colab {\n",
       "                    background-color: var(--colab-primary-surface-color, white);\n",
       "                }\n",
       "\n",
       "                .geemap-colab .jupyter-button {\n",
       "                    --jp-layout-color3: var(--colab-primary-surface-color, white);\n",
       "                }\n",
       "            </style>\n",
       "            "
      ],
      "text/plain": [
       "<IPython.core.display.HTML object>"
      ]
     },
     "metadata": {},
     "output_type": "display_data"
    }
   ],
   "source": [
    "risma_stations = ['RISMA_MB1', 'RISMA_MB2', 'RISMA_MB3', 'RISMA_MB4', \n",
    "                  'RISMA_MB5', 'RISMA_MB6', 'RISMA_MB7', 'RISMA_MB8', \n",
    "                  'RISMA_MB9', 'RISMA_MB10', 'RISMA_MB11', 'RISMA_MB12', \n",
    "                  'RISMA_MB13']\n",
    "params = ['Air Temp', 'Soil temperature', 'Soil Moisture']\n",
    "sensors= 'average'\n",
    "depths = ['0 to 5 cm', '5 cm']"
   ]
  },
  {
   "cell_type": "code",
   "execution_count": 4,
   "id": "70c050e3",
   "metadata": {},
   "outputs": [
    {
     "data": {
      "text/html": [
       "\n",
       "            <style>\n",
       "                .geemap-dark {\n",
       "                    --jp-widgets-color: white;\n",
       "                    --jp-widgets-label-color: white;\n",
       "                    --jp-ui-font-color1: white;\n",
       "                    --jp-layout-color2: #454545;\n",
       "                    background-color: #383838;\n",
       "                }\n",
       "\n",
       "                .geemap-dark .jupyter-button {\n",
       "                    --jp-layout-color3: #383838;\n",
       "                }\n",
       "\n",
       "                .geemap-colab {\n",
       "                    background-color: var(--colab-primary-surface-color, white);\n",
       "                }\n",
       "\n",
       "                .geemap-colab .jupyter-button {\n",
       "                    --jp-layout-color3: var(--colab-primary-surface-color, white);\n",
       "                }\n",
       "            </style>\n",
       "            "
      ],
      "text/plain": [
       "<IPython.core.display.HTML object>"
      ]
     },
     "metadata": {},
     "output_type": "display_data"
    },
    {
     "name": "stdout",
     "output_type": "stream",
     "text": [
      "The file '../assets/inputs/RISMA_CSV_files/RISMA_MB1_2010_to_2024.csv' exists. \n",
      "\tSkipping download process for RISMA_MB1.\n",
      "The file '../assets/inputs/RISMA_CSV_files/RISMA_MB10_2010_to_2024.csv' exists. \n",
      "\tSkipping download process for RISMA_MB10.\n",
      "The file '../assets/inputs/RISMA_CSV_files/RISMA_MB11_2010_to_2024.csv' exists. \n",
      "\tSkipping download process for RISMA_MB11.\n",
      "The file '../assets/inputs/RISMA_CSV_files/RISMA_MB12_2010_to_2024.csv' exists. \n",
      "\tSkipping download process for RISMA_MB12.\n",
      "The file '../assets/inputs/RISMA_CSV_files/RISMA_MB13_2010_to_2024.csv' exists. \n",
      "\tSkipping download process for RISMA_MB13.\n",
      "The file '../assets/inputs/RISMA_CSV_files/RISMA_MB2_2010_to_2024.csv' exists. \n",
      "\tSkipping download process for RISMA_MB2.\n",
      "The file '../assets/inputs/RISMA_CSV_files/RISMA_MB3_2010_to_2024.csv' exists. \n",
      "\tSkipping download process for RISMA_MB3.\n",
      "The file '../assets/inputs/RISMA_CSV_files/RISMA_MB4_2010_to_2024.csv' exists. \n",
      "\tSkipping download process for RISMA_MB4.\n",
      "The file '../assets/inputs/RISMA_CSV_files/RISMA_MB5_2010_to_2024.csv' exists. \n",
      "\tSkipping download process for RISMA_MB5.\n",
      "The file '../assets/inputs/RISMA_CSV_files/RISMA_MB6_2010_to_2024.csv' exists. \n",
      "\tSkipping download process for RISMA_MB6.\n",
      "The file '../assets/inputs/RISMA_CSV_files/RISMA_MB7_2010_to_2024.csv' exists. \n",
      "\tSkipping download process for RISMA_MB7.\n",
      "The file '../assets/inputs/RISMA_CSV_files/RISMA_MB8_2010_to_2024.csv' exists. \n",
      "\tSkipping download process for RISMA_MB8.\n",
      "The file '../assets/inputs/RISMA_CSV_files/RISMA_MB9_2010_to_2024.csv' exists. \n",
      "\tSkipping download process for RISMA_MB9.\n"
     ]
    }
   ],
   "source": [
    "risma.download_risma_data(\n",
    "    out_dir='../assets/inputs/RISMA_CSV_files', \n",
    "    stations=risma_stations, parameters=params, \n",
    "    sensors=sensors, depths=depths, \n",
    "    start_date='2010-01-01', end_date='2024-01-01')"
   ]
  },
  {
   "cell_type": "code",
   "execution_count": 5,
   "id": "bf846d01",
   "metadata": {},
   "outputs": [
    {
     "data": {
      "text/html": [
       "\n",
       "            <style>\n",
       "                .geemap-dark {\n",
       "                    --jp-widgets-color: white;\n",
       "                    --jp-widgets-label-color: white;\n",
       "                    --jp-ui-font-color1: white;\n",
       "                    --jp-layout-color2: #454545;\n",
       "                    background-color: #383838;\n",
       "                }\n",
       "\n",
       "                .geemap-dark .jupyter-button {\n",
       "                    --jp-layout-color3: #383838;\n",
       "                }\n",
       "\n",
       "                .geemap-colab {\n",
       "                    background-color: var(--colab-primary-surface-color, white);\n",
       "                }\n",
       "\n",
       "                .geemap-colab .jupyter-button {\n",
       "                    --jp-layout-color3: var(--colab-primary-surface-color, white);\n",
       "                }\n",
       "            </style>\n",
       "            "
      ],
      "text/plain": [
       "<IPython.core.display.HTML object>"
      ]
     },
     "metadata": {},
     "output_type": "display_data"
    },
    {
     "name": "stdout",
     "output_type": "stream",
     "text": [
      "\tProcessing file: RISMA_MB1_2010_to_2024.csv\n",
      "\tProcessing file: RISMA_MB2_2010_to_2024.csv\n",
      "\tProcessing file: RISMA_MB3_2010_to_2024.csv\n",
      "\tProcessing file: RISMA_MB4_2010_to_2024.csv\n",
      "\tProcessing file: RISMA_MB5_2010_to_2024.csv\n",
      "\tProcessing file: RISMA_MB6_2010_to_2024.csv\n",
      "\tProcessing file: RISMA_MB7_2010_to_2024.csv\n",
      "\tProcessing file: RISMA_MB8_2010_to_2024.csv\n",
      "\tProcessing file: RISMA_MB9_2010_to_2024.csv\n",
      "\tProcessing file: RISMA_MB10_2010_to_2024.csv\n",
      "\tProcessing file: RISMA_MB11_2010_to_2024.csv\n",
      "\tProcessing file: RISMA_MB12_2010_to_2024.csv\n",
      "\tProcessing file: RISMA_MB13_2010_to_2024.csv\n",
      "(95121, 17)\n"
     ]
    },
    {
     "data": {
      "text/html": [
       "<div>\n",
       "<style scoped>\n",
       "    .dataframe tbody tr th:only-of-type {\n",
       "        vertical-align: middle;\n",
       "    }\n",
       "\n",
       "    .dataframe tbody tr th {\n",
       "        vertical-align: top;\n",
       "    }\n",
       "\n",
       "    .dataframe thead th {\n",
       "        text-align: right;\n",
       "    }\n",
       "</style>\n",
       "<table border=\"1\" class=\"dataframe\">\n",
       "  <thead>\n",
       "    <tr style=\"text-align: right;\">\n",
       "      <th></th>\n",
       "      <th>date</th>\n",
       "      <th>station</th>\n",
       "      <th>depth</th>\n",
       "      <th>op</th>\n",
       "      <th>mean_sst</th>\n",
       "      <th>mean_airt</th>\n",
       "      <th>SSM</th>\n",
       "      <th>SST</th>\n",
       "      <th>year</th>\n",
       "      <th>doy</th>\n",
       "      <th>Station</th>\n",
       "      <th>Depth (cm)</th>\n",
       "      <th>bulk</th>\n",
       "      <th>Sand</th>\n",
       "      <th>Silt</th>\n",
       "      <th>Clay</th>\n",
       "      <th>Classification</th>\n",
       "    </tr>\n",
       "  </thead>\n",
       "  <tbody>\n",
       "    <tr>\n",
       "      <th>0</th>\n",
       "      <td>2013-04-16</td>\n",
       "      <td>MB1</td>\n",
       "      <td>0 to 5 cm</td>\n",
       "      <td>0</td>\n",
       "      <td>0.1500</td>\n",
       "      <td>-1.52</td>\n",
       "      <td>0.170000</td>\n",
       "      <td>0.059378</td>\n",
       "      <td>2013</td>\n",
       "      <td>106</td>\n",
       "      <td>MB1</td>\n",
       "      <td>5</td>\n",
       "      <td>1.28</td>\n",
       "      <td>0.788</td>\n",
       "      <td>0.101</td>\n",
       "      <td>0.111</td>\n",
       "      <td>Sandy Loam</td>\n",
       "    </tr>\n",
       "    <tr>\n",
       "      <th>1</th>\n",
       "      <td>2013-04-17</td>\n",
       "      <td>MB1</td>\n",
       "      <td>0 to 5 cm</td>\n",
       "      <td>0</td>\n",
       "      <td>1.5185</td>\n",
       "      <td>-0.11</td>\n",
       "      <td>0.265556</td>\n",
       "      <td>2.236667</td>\n",
       "      <td>2013</td>\n",
       "      <td>107</td>\n",
       "      <td>MB1</td>\n",
       "      <td>5</td>\n",
       "      <td>1.28</td>\n",
       "      <td>0.788</td>\n",
       "      <td>0.101</td>\n",
       "      <td>0.111</td>\n",
       "      <td>Sandy Loam</td>\n",
       "    </tr>\n",
       "    <tr>\n",
       "      <th>2</th>\n",
       "      <td>2013-04-17</td>\n",
       "      <td>MB1</td>\n",
       "      <td>0 to 5 cm</td>\n",
       "      <td>1</td>\n",
       "      <td>1.5185</td>\n",
       "      <td>-0.11</td>\n",
       "      <td>0.142222</td>\n",
       "      <td>-0.281222</td>\n",
       "      <td>2013</td>\n",
       "      <td>107</td>\n",
       "      <td>MB1</td>\n",
       "      <td>5</td>\n",
       "      <td>1.28</td>\n",
       "      <td>0.788</td>\n",
       "      <td>0.101</td>\n",
       "      <td>0.111</td>\n",
       "      <td>Sandy Loam</td>\n",
       "    </tr>\n",
       "    <tr>\n",
       "      <th>3</th>\n",
       "      <td>2013-04-18</td>\n",
       "      <td>MB1</td>\n",
       "      <td>0 to 5 cm</td>\n",
       "      <td>0</td>\n",
       "      <td>2.0665</td>\n",
       "      <td>0.00</td>\n",
       "      <td>0.296667</td>\n",
       "      <td>3.088889</td>\n",
       "      <td>2013</td>\n",
       "      <td>108</td>\n",
       "      <td>MB1</td>\n",
       "      <td>5</td>\n",
       "      <td>1.28</td>\n",
       "      <td>0.788</td>\n",
       "      <td>0.101</td>\n",
       "      <td>0.111</td>\n",
       "      <td>Sandy Loam</td>\n",
       "    </tr>\n",
       "    <tr>\n",
       "      <th>4</th>\n",
       "      <td>2013-04-18</td>\n",
       "      <td>MB1</td>\n",
       "      <td>0 to 5 cm</td>\n",
       "      <td>1</td>\n",
       "      <td>2.0665</td>\n",
       "      <td>0.00</td>\n",
       "      <td>0.241111</td>\n",
       "      <td>-0.374000</td>\n",
       "      <td>2013</td>\n",
       "      <td>108</td>\n",
       "      <td>MB1</td>\n",
       "      <td>5</td>\n",
       "      <td>1.28</td>\n",
       "      <td>0.788</td>\n",
       "      <td>0.101</td>\n",
       "      <td>0.111</td>\n",
       "      <td>Sandy Loam</td>\n",
       "    </tr>\n",
       "  </tbody>\n",
       "</table>\n",
       "</div>"
      ],
      "text/plain": [
       "        date station      depth  op  mean_sst  mean_airt       SSM       SST  \\\n",
       "0 2013-04-16     MB1  0 to 5 cm   0    0.1500      -1.52  0.170000  0.059378   \n",
       "1 2013-04-17     MB1  0 to 5 cm   0    1.5185      -0.11  0.265556  2.236667   \n",
       "2 2013-04-17     MB1  0 to 5 cm   1    1.5185      -0.11  0.142222 -0.281222   \n",
       "3 2013-04-18     MB1  0 to 5 cm   0    2.0665       0.00  0.296667  3.088889   \n",
       "4 2013-04-18     MB1  0 to 5 cm   1    2.0665       0.00  0.241111 -0.374000   \n",
       "\n",
       "   year  doy Station  Depth (cm)  bulk   Sand   Silt   Clay Classification  \n",
       "0  2013  106     MB1           5  1.28  0.788  0.101  0.111     Sandy Loam  \n",
       "1  2013  107     MB1           5  1.28  0.788  0.101  0.111     Sandy Loam  \n",
       "2  2013  107     MB1           5  1.28  0.788  0.101  0.111     Sandy Loam  \n",
       "3  2013  108     MB1           5  1.28  0.788  0.101  0.111     Sandy Loam  \n",
       "4  2013  108     MB1           5  1.28  0.788  0.101  0.111     Sandy Loam  "
      ]
     },
     "execution_count": 5,
     "metadata": {},
     "output_type": "execute_result"
    }
   ],
   "source": [
    "risma_df = risma.load_df()\n",
    "print(risma_df.shape)\n",
    "risma_df.head()"
   ]
  }
 ],
 "metadata": {
  "kernelspec": {
   "display_name": ".venv",
   "language": "python",
   "name": "python3"
  },
  "language_info": {
   "codemirror_mode": {
    "name": "ipython",
    "version": 3
   },
   "file_extension": ".py",
   "mimetype": "text/x-python",
   "name": "python",
   "nbconvert_exporter": "python",
   "pygments_lexer": "ipython3",
   "version": "3.11.2"
  }
 },
 "nbformat": 4,
 "nbformat_minor": 5
}
