{
 "cells": [
  {
   "cell_type": "code",
   "execution_count": 1,
   "id": "123509d7",
   "metadata": {},
   "outputs": [],
   "source": [
    "from nitropulse import RismaData"
   ]
  },
  {
   "cell_type": "code",
   "execution_count": 2,
   "id": "b28fb982",
   "metadata": {},
   "outputs": [
    {
     "data": {
      "text/html": [
       "\n",
       "            <style>\n",
       "                .geemap-dark {\n",
       "                    --jp-widgets-color: white;\n",
       "                    --jp-widgets-label-color: white;\n",
       "                    --jp-ui-font-color1: white;\n",
       "                    --jp-layout-color2: #454545;\n",
       "                    background-color: #383838;\n",
       "                }\n",
       "\n",
       "                .geemap-dark .jupyter-button {\n",
       "                    --jp-layout-color3: #383838;\n",
       "                }\n",
       "\n",
       "                .geemap-colab {\n",
       "                    background-color: var(--colab-primary-surface-color, white);\n",
       "                }\n",
       "\n",
       "                .geemap-colab .jupyter-button {\n",
       "                    --jp-layout-color3: var(--colab-primary-surface-color, white);\n",
       "                }\n",
       "            </style>\n",
       "            "
      ],
      "text/plain": [
       "<IPython.core.display.HTML object>"
      ]
     },
     "metadata": {},
     "output_type": "display_data"
    },
    {
     "name": "stdout",
     "output_type": "stream",
     "text": [
      "Local directory for RISMA data: /home/morteza/.nitropulse/inputs/RISMA_CSV_files\n"
     ]
    }
   ],
   "source": [
    "risma = RismaData(workspace_dir='/home/morteza/.nitropulse')"
   ]
  },
  {
   "cell_type": "code",
   "execution_count": 3,
   "id": "645fd42f",
   "metadata": {},
   "outputs": [
    {
     "data": {
      "text/html": [
       "\n",
       "            <style>\n",
       "                .geemap-dark {\n",
       "                    --jp-widgets-color: white;\n",
       "                    --jp-widgets-label-color: white;\n",
       "                    --jp-ui-font-color1: white;\n",
       "                    --jp-layout-color2: #454545;\n",
       "                    background-color: #383838;\n",
       "                }\n",
       "\n",
       "                .geemap-dark .jupyter-button {\n",
       "                    --jp-layout-color3: #383838;\n",
       "                }\n",
       "\n",
       "                .geemap-colab {\n",
       "                    background-color: var(--colab-primary-surface-color, white);\n",
       "                }\n",
       "\n",
       "                .geemap-colab .jupyter-button {\n",
       "                    --jp-layout-color3: var(--colab-primary-surface-color, white);\n",
       "                }\n",
       "            </style>\n",
       "            "
      ],
      "text/plain": [
       "<IPython.core.display.HTML object>"
      ]
     },
     "metadata": {},
     "output_type": "display_data"
    }
   ],
   "source": [
    "risma_stations = ['RISMA_MB1', 'RISMA_MB2', \n",
    "                  'RISMA_MB3', 'RISMA_MB4', \n",
    "                  'RISMA_MB5', 'RISMA_MB6', \n",
    "                  'RISMA_MB7', 'RISMA_MB8', \n",
    "                  'RISMA_MB9', 'RISMA_MB10', \n",
    "                  'RISMA_MB11', 'RISMA_MB12', \n",
    "                  'RISMA_MB13', 'RISMA_MB14', \n",
    "                  'RISMA_MB15', 'RISMA_MB16',\n",
    "                  'RISMA_MB17', 'RISMA_MB18', \n",
    "                  'RISMA_MB19', 'RISMA_MB20',\n",
    "                  'RISMA_MB21', 'RISMA_MB22', \n",
    "                  'RISMA_MB23', 'RISMA_MB24',\n",
    "                  'RISMA_MB25', 'RISMA_MB26',\n",
    "                  'RISMA_SK1', 'RISMA_SK2', \n",
    "                  'RISMA_SK3', 'RISMA_SK4',\n",
    "\n",
    "                  ]\n",
    "params = ['Air Temp', 'Soil temperature', 'Soil Moisture']\n",
    "sensors= 'average'\n",
    "depths = ['0 to 5 cm', '5 cm']"
   ]
  },
  {
   "cell_type": "code",
   "execution_count": 4,
   "id": "70c050e3",
   "metadata": {},
   "outputs": [
    {
     "data": {
      "text/html": [
       "\n",
       "            <style>\n",
       "                .geemap-dark {\n",
       "                    --jp-widgets-color: white;\n",
       "                    --jp-widgets-label-color: white;\n",
       "                    --jp-ui-font-color1: white;\n",
       "                    --jp-layout-color2: #454545;\n",
       "                    background-color: #383838;\n",
       "                }\n",
       "\n",
       "                .geemap-dark .jupyter-button {\n",
       "                    --jp-layout-color3: #383838;\n",
       "                }\n",
       "\n",
       "                .geemap-colab {\n",
       "                    background-color: var(--colab-primary-surface-color, white);\n",
       "                }\n",
       "\n",
       "                .geemap-colab .jupyter-button {\n",
       "                    --jp-layout-color3: var(--colab-primary-surface-color, white);\n",
       "                }\n",
       "            </style>\n",
       "            "
      ],
      "text/plain": [
       "<IPython.core.display.HTML object>"
      ]
     },
     "metadata": {},
     "output_type": "display_data"
    }
   ],
   "source": [
    "# risma.download_risma_data(\n",
    "#     out_dir='../assets/inputs/RISMA_CSV_files', \n",
    "#     stations=risma_stations, parameters=params, \n",
    "#     sensors=sensors, depths=depths, \n",
    "#     start_date='2010-01-01', end_date='2024-01-01')"
   ]
  },
  {
   "cell_type": "code",
   "execution_count": 5,
   "id": "bf846d01",
   "metadata": {},
   "outputs": [
    {
     "data": {
      "text/html": [
       "\n",
       "            <style>\n",
       "                .geemap-dark {\n",
       "                    --jp-widgets-color: white;\n",
       "                    --jp-widgets-label-color: white;\n",
       "                    --jp-ui-font-color1: white;\n",
       "                    --jp-layout-color2: #454545;\n",
       "                    background-color: #383838;\n",
       "                }\n",
       "\n",
       "                .geemap-dark .jupyter-button {\n",
       "                    --jp-layout-color3: #383838;\n",
       "                }\n",
       "\n",
       "                .geemap-colab {\n",
       "                    background-color: var(--colab-primary-surface-color, white);\n",
       "                }\n",
       "\n",
       "                .geemap-colab .jupyter-button {\n",
       "                    --jp-layout-color3: var(--colab-primary-surface-color, white);\n",
       "                }\n",
       "            </style>\n",
       "            "
      ],
      "text/plain": [
       "<IPython.core.display.HTML object>"
      ]
     },
     "metadata": {},
     "output_type": "display_data"
    },
    {
     "name": "stdout",
     "output_type": "stream",
     "text": [
      "Found 30 files in RISMA directory.\n"
     ]
    },
    {
     "data": {
      "application/vnd.jupyter.widget-view+json": {
       "model_id": "8d2d58cb4bc44777be8cd1f37137e80f",
       "version_major": 2,
       "version_minor": 0
      },
      "text/plain": [
       "Loading RISMA files:   0%|          | 0/30 [00:00<?, ?it/s]"
      ]
     },
     "metadata": {},
     "output_type": "display_data"
    },
    {
     "name": "stdout",
     "output_type": "stream",
     "text": [
      "Processing RISMA file: /home/morteza/.nitropulse/inputs/RISMA_CSV_files/RISMA_MB8.csv for station MB8\n",
      "Processing RISMA file: /home/morteza/.nitropulse/inputs/RISMA_CSV_files/RISMA_MB18.csv for station MB18\n",
      "Processing RISMA file: /home/morteza/.nitropulse/inputs/RISMA_CSV_files/RISMA_MB24.csv for station MB24\n",
      "Processing RISMA file: /home/morteza/.nitropulse/inputs/RISMA_CSV_files/RISMA_MB12.csv for station MB12\n",
      "Processing RISMA file: /home/morteza/.nitropulse/inputs/RISMA_CSV_files/RISMA_MB17.csv for station MB17\n",
      "Processing RISMA file: /home/morteza/.nitropulse/inputs/RISMA_CSV_files/RISMA_SK2.csv for station SK2\n",
      "Processing RISMA file: /home/morteza/.nitropulse/inputs/RISMA_CSV_files/RISMA_MB20.csv for station MB20\n",
      "Processing RISMA file: /home/morteza/.nitropulse/inputs/RISMA_CSV_files/RISMA_MB4.csv for station MB4\n",
      "Processing RISMA file: /home/morteza/.nitropulse/inputs/RISMA_CSV_files/RISMA_MB26.csv for station MB26\n",
      "Processing RISMA file: /home/morteza/.nitropulse/inputs/RISMA_CSV_files/RISMA_MB2.csv for station MB2\n",
      "Processing RISMA file: /home/morteza/.nitropulse/inputs/RISMA_CSV_files/RISMA_MB19.csv for station MB19\n",
      "Processing RISMA file: /home/morteza/.nitropulse/inputs/RISMA_CSV_files/RISMA_MB21.csv for station MB21\n",
      "Processing RISMA file: /home/morteza/.nitropulse/inputs/RISMA_CSV_files/RISMA_MB10.csv for station MB10\n",
      "Processing RISMA file: /home/morteza/.nitropulse/inputs/RISMA_CSV_files/RISMA_MB15.csv for station MB15\n",
      "Processing RISMA file: /home/morteza/.nitropulse/inputs/RISMA_CSV_files/RISMA_MB16.csv for station MB16\n",
      "Processing RISMA file: /home/morteza/.nitropulse/inputs/RISMA_CSV_files/RISMA_MB7.csv for station MB7\n",
      "Processing RISMA file: /home/morteza/.nitropulse/inputs/RISMA_CSV_files/RISMA_MB14.csv for station MB14\n",
      "Processing RISMA file: /home/morteza/.nitropulse/inputs/RISMA_CSV_files/RISMA_SK3.csv for station SK3\n",
      "Processing RISMA file: /home/morteza/.nitropulse/inputs/RISMA_CSV_files/RISMA_MB22.csv for station MB22\n",
      "Processing RISMA file: /home/morteza/.nitropulse/inputs/RISMA_CSV_files/RISMA_MB3.csv for station MB3\n",
      "Processing RISMA file: /home/morteza/.nitropulse/inputs/RISMA_CSV_files/RISMA_SK1.csv for station SK1\n",
      "Processing RISMA file: /home/morteza/.nitropulse/inputs/RISMA_CSV_files/RISMA_MB13.csv for station MB13\n",
      "Processing RISMA file: /home/morteza/.nitropulse/inputs/RISMA_CSV_files/RISMA_MB5.csv for station MB5\n",
      "Processing RISMA file: /home/morteza/.nitropulse/inputs/RISMA_CSV_files/RISMA_MB1.csv for station MB1\n",
      "Processing RISMA file: /home/morteza/.nitropulse/inputs/RISMA_CSV_files/RISMA_SK4.csv for station SK4\n",
      "Processing RISMA file: /home/morteza/.nitropulse/inputs/RISMA_CSV_files/RISMA_MB6.csv for station MB6\n",
      "Processing RISMA file: /home/morteza/.nitropulse/inputs/RISMA_CSV_files/RISMA_MB25.csv for station MB25\n",
      "Processing RISMA file: /home/morteza/.nitropulse/inputs/RISMA_CSV_files/RISMA_MB9.csv for station MB9\n",
      "Processing RISMA file: /home/morteza/.nitropulse/inputs/RISMA_CSV_files/RISMA_MB23.csv for station MB23\n",
      "Processing RISMA file: /home/morteza/.nitropulse/inputs/RISMA_CSV_files/RISMA_MB11.csv for station MB11\n",
      "(8723106, 18)\n"
     ]
    },
    {
     "data": {
      "text/html": [
       "<div>\n",
       "<style scoped>\n",
       "    .dataframe tbody tr th:only-of-type {\n",
       "        vertical-align: middle;\n",
       "    }\n",
       "\n",
       "    .dataframe tbody tr th {\n",
       "        vertical-align: top;\n",
       "    }\n",
       "\n",
       "    .dataframe thead th {\n",
       "        text-align: right;\n",
       "    }\n",
       "</style>\n",
       "<table border=\"1\" class=\"dataframe\">\n",
       "  <thead>\n",
       "    <tr style=\"text-align: right;\">\n",
       "      <th></th>\n",
       "      <th>date</th>\n",
       "      <th>station</th>\n",
       "      <th>depth</th>\n",
       "      <th>mean_sst</th>\n",
       "      <th>mean_airt</th>\n",
       "      <th>AIRT</th>\n",
       "      <th>PRCP</th>\n",
       "      <th>SSM</th>\n",
       "      <th>SST</th>\n",
       "      <th>year</th>\n",
       "      <th>doy</th>\n",
       "      <th>Station</th>\n",
       "      <th>Depth (cm)</th>\n",
       "      <th>bulk</th>\n",
       "      <th>Sand</th>\n",
       "      <th>Silt</th>\n",
       "      <th>Clay</th>\n",
       "      <th>Classification</th>\n",
       "    </tr>\n",
       "  </thead>\n",
       "  <tbody>\n",
       "    <tr>\n",
       "      <th>0</th>\n",
       "      <td>2013-04-16 18:00:00</td>\n",
       "      <td>MB1</td>\n",
       "      <td>0 to 5 cm</td>\n",
       "      <td>0.108333</td>\n",
       "      <td>-1.52</td>\n",
       "      <td>-1.82</td>\n",
       "      <td>0.0</td>\n",
       "      <td>-0.160000</td>\n",
       "      <td>0.000000</td>\n",
       "      <td>2013</td>\n",
       "      <td>106</td>\n",
       "      <td>MB1</td>\n",
       "      <td>5</td>\n",
       "      <td>1.28</td>\n",
       "      <td>0.788</td>\n",
       "      <td>0.101</td>\n",
       "      <td>0.111</td>\n",
       "      <td>Sandy Loam</td>\n",
       "    </tr>\n",
       "    <tr>\n",
       "      <th>1</th>\n",
       "      <td>2013-04-16 18:15:00</td>\n",
       "      <td>MB1</td>\n",
       "      <td>0 to 5 cm</td>\n",
       "      <td>0.108333</td>\n",
       "      <td>-1.52</td>\n",
       "      <td>-2.02</td>\n",
       "      <td>0.0</td>\n",
       "      <td>0.206667</td>\n",
       "      <td>0.050000</td>\n",
       "      <td>2013</td>\n",
       "      <td>106</td>\n",
       "      <td>MB1</td>\n",
       "      <td>5</td>\n",
       "      <td>1.28</td>\n",
       "      <td>0.788</td>\n",
       "      <td>0.101</td>\n",
       "      <td>0.111</td>\n",
       "      <td>Sandy Loam</td>\n",
       "    </tr>\n",
       "    <tr>\n",
       "      <th>2</th>\n",
       "      <td>2013-04-16 18:30:00</td>\n",
       "      <td>MB1</td>\n",
       "      <td>0 to 5 cm</td>\n",
       "      <td>0.108333</td>\n",
       "      <td>-1.52</td>\n",
       "      <td>-1.89</td>\n",
       "      <td>0.0</td>\n",
       "      <td>0.206667</td>\n",
       "      <td>0.050000</td>\n",
       "      <td>2013</td>\n",
       "      <td>106</td>\n",
       "      <td>MB1</td>\n",
       "      <td>5</td>\n",
       "      <td>1.28</td>\n",
       "      <td>0.788</td>\n",
       "      <td>0.101</td>\n",
       "      <td>0.111</td>\n",
       "      <td>Sandy Loam</td>\n",
       "    </tr>\n",
       "    <tr>\n",
       "      <th>3</th>\n",
       "      <td>2013-04-16 18:45:00</td>\n",
       "      <td>MB1</td>\n",
       "      <td>0 to 5 cm</td>\n",
       "      <td>0.108333</td>\n",
       "      <td>-1.52</td>\n",
       "      <td>-1.67</td>\n",
       "      <td>0.0</td>\n",
       "      <td>0.208333</td>\n",
       "      <td>0.083333</td>\n",
       "      <td>2013</td>\n",
       "      <td>106</td>\n",
       "      <td>MB1</td>\n",
       "      <td>5</td>\n",
       "      <td>1.28</td>\n",
       "      <td>0.788</td>\n",
       "      <td>0.101</td>\n",
       "      <td>0.111</td>\n",
       "      <td>Sandy Loam</td>\n",
       "    </tr>\n",
       "    <tr>\n",
       "      <th>4</th>\n",
       "      <td>2013-04-16 19:00:00</td>\n",
       "      <td>MB1</td>\n",
       "      <td>0 to 5 cm</td>\n",
       "      <td>0.108333</td>\n",
       "      <td>-1.52</td>\n",
       "      <td>-1.72</td>\n",
       "      <td>0.0</td>\n",
       "      <td>0.208333</td>\n",
       "      <td>0.083333</td>\n",
       "      <td>2013</td>\n",
       "      <td>106</td>\n",
       "      <td>MB1</td>\n",
       "      <td>5</td>\n",
       "      <td>1.28</td>\n",
       "      <td>0.788</td>\n",
       "      <td>0.101</td>\n",
       "      <td>0.111</td>\n",
       "      <td>Sandy Loam</td>\n",
       "    </tr>\n",
       "  </tbody>\n",
       "</table>\n",
       "</div>"
      ],
      "text/plain": [
       "                 date station      depth  mean_sst  mean_airt  AIRT  PRCP  \\\n",
       "0 2013-04-16 18:00:00     MB1  0 to 5 cm  0.108333      -1.52 -1.82   0.0   \n",
       "1 2013-04-16 18:15:00     MB1  0 to 5 cm  0.108333      -1.52 -2.02   0.0   \n",
       "2 2013-04-16 18:30:00     MB1  0 to 5 cm  0.108333      -1.52 -1.89   0.0   \n",
       "3 2013-04-16 18:45:00     MB1  0 to 5 cm  0.108333      -1.52 -1.67   0.0   \n",
       "4 2013-04-16 19:00:00     MB1  0 to 5 cm  0.108333      -1.52 -1.72   0.0   \n",
       "\n",
       "        SSM       SST  year  doy Station  Depth (cm)  bulk   Sand   Silt  \\\n",
       "0 -0.160000  0.000000  2013  106     MB1           5  1.28  0.788  0.101   \n",
       "1  0.206667  0.050000  2013  106     MB1           5  1.28  0.788  0.101   \n",
       "2  0.206667  0.050000  2013  106     MB1           5  1.28  0.788  0.101   \n",
       "3  0.208333  0.083333  2013  106     MB1           5  1.28  0.788  0.101   \n",
       "4  0.208333  0.083333  2013  106     MB1           5  1.28  0.788  0.101   \n",
       "\n",
       "    Clay Classification  \n",
       "0  0.111     Sandy Loam  \n",
       "1  0.111     Sandy Loam  \n",
       "2  0.111     Sandy Loam  \n",
       "3  0.111     Sandy Loam  \n",
       "4  0.111     Sandy Loam  "
      ]
     },
     "execution_count": 5,
     "metadata": {},
     "output_type": "execute_result"
    }
   ],
   "source": [
    "risma_df = risma.load_df(depth='0 to 5 cm')\n",
    "print(risma_df.shape)\n",
    "risma_df.head()"
   ]
  }
 ],
 "metadata": {
  "kernelspec": {
   "display_name": ".venv (3.11.2)",
   "language": "python",
   "name": "python3"
  },
  "language_info": {
   "codemirror_mode": {
    "name": "ipython",
    "version": 3
   },
   "file_extension": ".py",
   "mimetype": "text/x-python",
   "name": "python",
   "nbconvert_exporter": "python",
   "pygments_lexer": "ipython3",
   "version": "3.11.2"
  }
 },
 "nbformat": 4,
 "nbformat_minor": 5
}
