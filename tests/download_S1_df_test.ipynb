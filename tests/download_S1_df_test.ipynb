{
 "cells": [
  {
   "cell_type": "code",
   "execution_count": 1,
   "id": "81a9f565",
   "metadata": {},
   "outputs": [],
   "source": [
    "from nitropulse import S1Data"
   ]
  },
  {
   "cell_type": "code",
   "execution_count": 2,
   "id": "83a2f898",
   "metadata": {},
   "outputs": [
    {
     "data": {
      "text/html": [
       "\n",
       "            <style>\n",
       "                .geemap-dark {\n",
       "                    --jp-widgets-color: white;\n",
       "                    --jp-widgets-label-color: white;\n",
       "                    --jp-ui-font-color1: white;\n",
       "                    --jp-layout-color2: #454545;\n",
       "                    background-color: #383838;\n",
       "                }\n",
       "\n",
       "                .geemap-dark .jupyter-button {\n",
       "                    --jp-layout-color3: #383838;\n",
       "                }\n",
       "\n",
       "                .geemap-colab {\n",
       "                    background-color: var(--colab-primary-surface-color, white);\n",
       "                }\n",
       "\n",
       "                .geemap-colab .jupyter-button {\n",
       "                    --jp-layout-color3: var(--colab-primary-surface-color, white);\n",
       "                }\n",
       "            </style>\n",
       "            "
      ],
      "text/plain": [
       "<IPython.core.display.HTML object>"
      ]
     },
     "metadata": {},
     "output_type": "display_data"
    }
   ],
   "source": [
    "risma_stations = ['RISMA_MB1', 'RISMA_MB2', \n",
    "                  'RISMA_MB3', 'RISMA_MB4', \n",
    "                  'RISMA_MB5', 'RISMA_MB6', \n",
    "                  'RISMA_MB7', 'RISMA_MB8', \n",
    "                  'RISMA_MB9', 'RISMA_MB10', \n",
    "                  'RISMA_MB11', 'RISMA_MB12', \n",
    "                  'RISMA_MB13', 'RISMA_MB14', \n",
    "                  'RISMA_MB15', 'RISMA_MB16',\n",
    "                  'RISMA_MB17', 'RISMA_MB18', \n",
    "                  'RISMA_MB19', 'RISMA_MB20',\n",
    "                  'RISMA_MB21', 'RISMA_MB22', \n",
    "                  'RISMA_MB23', 'RISMA_MB24',\n",
    "                  'RISMA_MB25', 'RISMA_MB26',\n",
    "                  'RISMA_SK1', 'RISMA_SK2', \n",
    "                  'RISMA_SK3', 'RISMA_SK4',\n",
    "\n",
    "                  ]"
   ]
  },
  {
   "cell_type": "code",
   "execution_count": 4,
   "id": "8f15531e",
   "metadata": {},
   "outputs": [
    {
     "data": {
      "text/html": [
       "\n",
       "            <style>\n",
       "                .geemap-dark {\n",
       "                    --jp-widgets-color: white;\n",
       "                    --jp-widgets-label-color: white;\n",
       "                    --jp-ui-font-color1: white;\n",
       "                    --jp-layout-color2: #454545;\n",
       "                    background-color: #383838;\n",
       "                }\n",
       "\n",
       "                .geemap-dark .jupyter-button {\n",
       "                    --jp-layout-color3: #383838;\n",
       "                }\n",
       "\n",
       "                .geemap-colab {\n",
       "                    background-color: var(--colab-primary-surface-color, white);\n",
       "                }\n",
       "\n",
       "                .geemap-colab .jupyter-button {\n",
       "                    --jp-layout-color3: var(--colab-primary-surface-color, white);\n",
       "                }\n",
       "            </style>\n",
       "            "
      ],
      "text/plain": [
       "<IPython.core.display.HTML object>"
      ]
     },
     "metadata": {},
     "output_type": "display_data"
    },
    {
     "name": "stdout",
     "output_type": "stream",
     "text": [
      "Local directory for S1 data: /home/morteza/.nitropulse/inputs/S1_CSV_files\n",
      "Hello from the Earth Engine servers!\n"
     ]
    },
    {
     "data": {
      "application/vnd.jupyter.widget-view+json": {
       "model_id": "707368be8acf4b2aaf855a0469348bcf",
       "version_major": 2,
       "version_minor": 0
      },
      "text/plain": [
       "Exporting S1 data from GEE:   0%|          | 0/30 [00:00<?, ?it/s]"
      ]
     },
     "metadata": {},
     "output_type": "display_data"
    },
    {
     "name": "stdout",
     "output_type": "stream",
     "text": [
      "The file '/home/morteza/.nitropulse/inputs/S1_CSV_files/S1_Backscatter_RISMA_MB1_2015_to_2024_buffer15m.csv' exists. \n",
      "\tSkipping download process for S1_Backscatter_RISMA_MB1_2015_to_2024_buffer15m.\n",
      "The file '/home/morteza/.nitropulse/inputs/S1_CSV_files/S1_Backscatter_RISMA_MB2_2015_to_2024_buffer15m.csv' exists. \n",
      "\tSkipping download process for S1_Backscatter_RISMA_MB2_2015_to_2024_buffer15m.\n",
      "The file '/home/morteza/.nitropulse/inputs/S1_CSV_files/S1_Backscatter_RISMA_MB3_2015_to_2024_buffer15m.csv' exists. \n",
      "\tSkipping download process for S1_Backscatter_RISMA_MB3_2015_to_2024_buffer15m.\n",
      "The file '/home/morteza/.nitropulse/inputs/S1_CSV_files/S1_Backscatter_RISMA_MB4_2015_to_2024_buffer15m.csv' exists. \n",
      "\tSkipping download process for S1_Backscatter_RISMA_MB4_2015_to_2024_buffer15m.\n",
      "The file '/home/morteza/.nitropulse/inputs/S1_CSV_files/S1_Backscatter_RISMA_MB5_2015_to_2024_buffer15m.csv' exists. \n",
      "\tSkipping download process for S1_Backscatter_RISMA_MB5_2015_to_2024_buffer15m.\n",
      "The file '/home/morteza/.nitropulse/inputs/S1_CSV_files/S1_Backscatter_RISMA_MB6_2015_to_2024_buffer15m.csv' exists. \n",
      "\tSkipping download process for S1_Backscatter_RISMA_MB6_2015_to_2024_buffer15m.\n",
      "The file '/home/morteza/.nitropulse/inputs/S1_CSV_files/S1_Backscatter_RISMA_MB7_2015_to_2024_buffer15m.csv' exists. \n",
      "\tSkipping download process for S1_Backscatter_RISMA_MB7_2015_to_2024_buffer15m.\n",
      "The file '/home/morteza/.nitropulse/inputs/S1_CSV_files/S1_Backscatter_RISMA_MB8_2015_to_2024_buffer15m.csv' exists. \n",
      "\tSkipping download process for S1_Backscatter_RISMA_MB8_2015_to_2024_buffer15m.\n",
      "The file '/home/morteza/.nitropulse/inputs/S1_CSV_files/S1_Backscatter_RISMA_MB9_2015_to_2024_buffer15m.csv' exists. \n",
      "\tSkipping download process for S1_Backscatter_RISMA_MB9_2015_to_2024_buffer15m.\n",
      "The file '/home/morteza/.nitropulse/inputs/S1_CSV_files/S1_Backscatter_RISMA_MB10_2015_to_2024_buffer15m.csv' exists. \n",
      "\tSkipping download process for S1_Backscatter_RISMA_MB10_2015_to_2024_buffer15m.\n",
      "The file '/home/morteza/.nitropulse/inputs/S1_CSV_files/S1_Backscatter_RISMA_MB11_2015_to_2024_buffer15m.csv' exists. \n",
      "\tSkipping download process for S1_Backscatter_RISMA_MB11_2015_to_2024_buffer15m.\n",
      "The file '/home/morteza/.nitropulse/inputs/S1_CSV_files/S1_Backscatter_RISMA_MB12_2015_to_2024_buffer15m.csv' exists. \n",
      "\tSkipping download process for S1_Backscatter_RISMA_MB12_2015_to_2024_buffer15m.\n",
      "The file '/home/morteza/.nitropulse/inputs/S1_CSV_files/S1_Backscatter_RISMA_MB13_2015_to_2024_buffer15m.csv' exists. \n",
      "\tSkipping download process for S1_Backscatter_RISMA_MB13_2015_to_2024_buffer15m.\n",
      "The file '/home/morteza/.nitropulse/inputs/S1_CSV_files/S1_Backscatter_RISMA_MB14_2015_to_2024_buffer15m.csv' exists. \n",
      "\tSkipping download process for S1_Backscatter_RISMA_MB14_2015_to_2024_buffer15m.\n",
      "The file '/home/morteza/.nitropulse/inputs/S1_CSV_files/S1_Backscatter_RISMA_MB15_2015_to_2024_buffer15m.csv' exists. \n",
      "\tSkipping download process for S1_Backscatter_RISMA_MB15_2015_to_2024_buffer15m.\n",
      "The file '/home/morteza/.nitropulse/inputs/S1_CSV_files/S1_Backscatter_RISMA_MB16_2015_to_2024_buffer15m.csv' exists. \n",
      "\tSkipping download process for S1_Backscatter_RISMA_MB16_2015_to_2024_buffer15m.\n",
      "The file '/home/morteza/.nitropulse/inputs/S1_CSV_files/S1_Backscatter_RISMA_MB17_2015_to_2024_buffer15m.csv' exists. \n",
      "\tSkipping download process for S1_Backscatter_RISMA_MB17_2015_to_2024_buffer15m.\n",
      "The file '/home/morteza/.nitropulse/inputs/S1_CSV_files/S1_Backscatter_RISMA_MB18_2015_to_2024_buffer15m.csv' exists. \n",
      "\tSkipping download process for S1_Backscatter_RISMA_MB18_2015_to_2024_buffer15m.\n",
      "The file '/home/morteza/.nitropulse/inputs/S1_CSV_files/S1_Backscatter_RISMA_MB19_2015_to_2024_buffer15m.csv' exists. \n",
      "\tSkipping download process for S1_Backscatter_RISMA_MB19_2015_to_2024_buffer15m.\n",
      "The file '/home/morteza/.nitropulse/inputs/S1_CSV_files/S1_Backscatter_RISMA_MB20_2015_to_2024_buffer15m.csv' exists. \n",
      "\tSkipping download process for S1_Backscatter_RISMA_MB20_2015_to_2024_buffer15m.\n",
      "The file '/home/morteza/.nitropulse/inputs/S1_CSV_files/S1_Backscatter_RISMA_MB21_2015_to_2024_buffer15m.csv' exists. \n",
      "\tSkipping download process for S1_Backscatter_RISMA_MB21_2015_to_2024_buffer15m.\n",
      "The file '/home/morteza/.nitropulse/inputs/S1_CSV_files/S1_Backscatter_RISMA_MB22_2015_to_2024_buffer15m.csv' exists. \n",
      "\tSkipping download process for S1_Backscatter_RISMA_MB22_2015_to_2024_buffer15m.\n",
      "The file '/home/morteza/.nitropulse/inputs/S1_CSV_files/S1_Backscatter_RISMA_MB23_2015_to_2024_buffer15m.csv' exists. \n",
      "\tSkipping download process for S1_Backscatter_RISMA_MB23_2015_to_2024_buffer15m.\n",
      "The file '/home/morteza/.nitropulse/inputs/S1_CSV_files/S1_Backscatter_RISMA_MB24_2015_to_2024_buffer15m.csv' exists. \n",
      "\tSkipping download process for S1_Backscatter_RISMA_MB24_2015_to_2024_buffer15m.\n",
      "The file '/home/morteza/.nitropulse/inputs/S1_CSV_files/S1_Backscatter_RISMA_MB25_2015_to_2024_buffer15m.csv' exists. \n",
      "\tSkipping download process for S1_Backscatter_RISMA_MB25_2015_to_2024_buffer15m.\n",
      "The file '/home/morteza/.nitropulse/inputs/S1_CSV_files/S1_Backscatter_RISMA_MB26_2015_to_2024_buffer15m.csv' exists. \n",
      "\tSkipping download process for S1_Backscatter_RISMA_MB26_2015_to_2024_buffer15m.\n",
      "The file '/home/morteza/.nitropulse/inputs/S1_CSV_files/S1_Backscatter_RISMA_SK1_2015_to_2024_buffer15m.csv' exists. \n",
      "\tSkipping download process for S1_Backscatter_RISMA_SK1_2015_to_2024_buffer15m.\n",
      "The file '/home/morteza/.nitropulse/inputs/S1_CSV_files/S1_Backscatter_RISMA_SK2_2015_to_2024_buffer15m.csv' exists. \n",
      "\tSkipping download process for S1_Backscatter_RISMA_SK2_2015_to_2024_buffer15m.\n",
      "The file '/home/morteza/.nitropulse/inputs/S1_CSV_files/S1_Backscatter_RISMA_SK3_2015_to_2024_buffer15m.csv' exists. \n",
      "\tSkipping download process for S1_Backscatter_RISMA_SK3_2015_to_2024_buffer15m.\n",
      "The file '/home/morteza/.nitropulse/inputs/S1_CSV_files/S1_Backscatter_RISMA_SK4_2015_to_2024_buffer15m.csv' exists. \n",
      "\tSkipping download process for S1_Backscatter_RISMA_SK4_2015_to_2024_buffer15m.\n"
     ]
    }
   ],
   "source": [
    "s1 = S1Data(workspace_dir='/home/morteza/.nitropulse', auto_download=False)\n",
    "s1.download_S1_data(\n",
    "    stations=risma_stations, buffer_distance=15, \n",
    "    start_date='2015-01-01', end_date='2024-01-01', \n",
    "    gee_project_id='ee-mortezakhazaei1370', roi_asset_id='RISMA_Stations_Canada')"
   ]
  },
  {
   "cell_type": "code",
   "execution_count": 5,
   "id": "7fb13c7c",
   "metadata": {},
   "outputs": [
    {
     "data": {
      "text/html": [
       "\n",
       "            <style>\n",
       "                .geemap-dark {\n",
       "                    --jp-widgets-color: white;\n",
       "                    --jp-widgets-label-color: white;\n",
       "                    --jp-ui-font-color1: white;\n",
       "                    --jp-layout-color2: #454545;\n",
       "                    background-color: #383838;\n",
       "                }\n",
       "\n",
       "                .geemap-dark .jupyter-button {\n",
       "                    --jp-layout-color3: #383838;\n",
       "                }\n",
       "\n",
       "                .geemap-colab {\n",
       "                    background-color: var(--colab-primary-surface-color, white);\n",
       "                }\n",
       "\n",
       "                .geemap-colab .jupyter-button {\n",
       "                    --jp-layout-color3: var(--colab-primary-surface-color, white);\n",
       "                }\n",
       "            </style>\n",
       "            "
      ],
      "text/plain": [
       "<IPython.core.display.HTML object>"
      ]
     },
     "metadata": {},
     "output_type": "display_data"
    },
    {
     "data": {
      "application/vnd.jupyter.widget-view+json": {
       "model_id": "9f845d9e03e04053bc30eaa280e094f1",
       "version_major": 2,
       "version_minor": 0
      },
      "text/plain": [
       "Loading S1 files:   0%|          | 0/30 [00:00<?, ?it/s]"
      ]
     },
     "metadata": {},
     "output_type": "display_data"
    },
    {
     "name": "stdout",
     "output_type": "stream",
     "text": [
      "(12554, 10)\n"
     ]
    },
    {
     "data": {
      "text/html": [
       "<div>\n",
       "<style scoped>\n",
       "    .dataframe tbody tr th:only-of-type {\n",
       "        vertical-align: middle;\n",
       "    }\n",
       "\n",
       "    .dataframe tbody tr th {\n",
       "        vertical-align: top;\n",
       "    }\n",
       "\n",
       "    .dataframe thead th {\n",
       "        text-align: right;\n",
       "    }\n",
       "</style>\n",
       "<table border=\"1\" class=\"dataframe\">\n",
       "  <thead>\n",
       "    <tr style=\"text-align: right;\">\n",
       "      <th>band</th>\n",
       "      <th>index</th>\n",
       "      <th>date</th>\n",
       "      <th>op</th>\n",
       "      <th>year</th>\n",
       "      <th>doy</th>\n",
       "      <th>vh</th>\n",
       "      <th>vv</th>\n",
       "      <th>angle</th>\n",
       "      <th>lc</th>\n",
       "      <th>station</th>\n",
       "    </tr>\n",
       "  </thead>\n",
       "  <tbody>\n",
       "    <tr>\n",
       "      <th>0</th>\n",
       "      <td>0</td>\n",
       "      <td>2015-04-25 00:23:20</td>\n",
       "      <td>0</td>\n",
       "      <td>2015</td>\n",
       "      <td>115</td>\n",
       "      <td>-20.0</td>\n",
       "      <td>-13.0</td>\n",
       "      <td>40.0</td>\n",
       "      <td>146</td>\n",
       "      <td>MB1</td>\n",
       "    </tr>\n",
       "    <tr>\n",
       "      <th>1</th>\n",
       "      <td>1</td>\n",
       "      <td>2015-05-07 00:23:21</td>\n",
       "      <td>0</td>\n",
       "      <td>2015</td>\n",
       "      <td>127</td>\n",
       "      <td>-18.0</td>\n",
       "      <td>-12.0</td>\n",
       "      <td>40.0</td>\n",
       "      <td>146</td>\n",
       "      <td>MB1</td>\n",
       "    </tr>\n",
       "    <tr>\n",
       "      <th>2</th>\n",
       "      <td>2</td>\n",
       "      <td>2015-05-19 00:23:22</td>\n",
       "      <td>0</td>\n",
       "      <td>2015</td>\n",
       "      <td>139</td>\n",
       "      <td>-17.0</td>\n",
       "      <td>-10.0</td>\n",
       "      <td>40.0</td>\n",
       "      <td>146</td>\n",
       "      <td>MB1</td>\n",
       "    </tr>\n",
       "    <tr>\n",
       "      <th>3</th>\n",
       "      <td>3</td>\n",
       "      <td>2015-05-26 00:15:28</td>\n",
       "      <td>0</td>\n",
       "      <td>2015</td>\n",
       "      <td>146</td>\n",
       "      <td>-18.0</td>\n",
       "      <td>-12.0</td>\n",
       "      <td>31.0</td>\n",
       "      <td>146</td>\n",
       "      <td>MB1</td>\n",
       "    </tr>\n",
       "    <tr>\n",
       "      <th>4</th>\n",
       "      <td>4</td>\n",
       "      <td>2015-06-07 00:15:29</td>\n",
       "      <td>0</td>\n",
       "      <td>2015</td>\n",
       "      <td>158</td>\n",
       "      <td>-16.0</td>\n",
       "      <td>-9.0</td>\n",
       "      <td>31.0</td>\n",
       "      <td>146</td>\n",
       "      <td>MB1</td>\n",
       "    </tr>\n",
       "  </tbody>\n",
       "</table>\n",
       "</div>"
      ],
      "text/plain": [
       "band  index                date  op  year  doy    vh    vv  angle   lc station\n",
       "0         0 2015-04-25 00:23:20   0  2015  115 -20.0 -13.0   40.0  146     MB1\n",
       "1         1 2015-05-07 00:23:21   0  2015  127 -18.0 -12.0   40.0  146     MB1\n",
       "2         2 2015-05-19 00:23:22   0  2015  139 -17.0 -10.0   40.0  146     MB1\n",
       "3         3 2015-05-26 00:15:28   0  2015  146 -18.0 -12.0   31.0  146     MB1\n",
       "4         4 2015-06-07 00:15:29   0  2015  158 -16.0  -9.0   31.0  146     MB1"
      ]
     },
     "execution_count": 5,
     "metadata": {},
     "output_type": "execute_result"
    }
   ],
   "source": [
    "df = s1.load_df()\n",
    "print(df.shape)\n",
    "df.head()"
   ]
  }
 ],
 "metadata": {
  "kernelspec": {
   "display_name": ".venv (3.11.2)",
   "language": "python",
   "name": "python3"
  },
  "language_info": {
   "codemirror_mode": {
    "name": "ipython",
    "version": 3
   },
   "file_extension": ".py",
   "mimetype": "text/x-python",
   "name": "python",
   "nbconvert_exporter": "python",
   "pygments_lexer": "ipython3",
   "version": "3.11.2"
  }
 },
 "nbformat": 4,
 "nbformat_minor": 5
}
