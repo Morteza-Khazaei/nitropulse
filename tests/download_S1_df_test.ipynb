{
 "cells": [
  {
   "cell_type": "code",
   "execution_count": 1,
   "id": "81a9f565",
   "metadata": {},
   "outputs": [],
   "source": [
    "from nitropulse import S1Data"
   ]
  },
  {
   "cell_type": "code",
   "execution_count": null,
   "id": "83a2f898",
   "metadata": {},
   "outputs": [
    {
     "data": {
      "text/html": [
       "\n",
       "            <style>\n",
       "                .geemap-dark {\n",
       "                    --jp-widgets-color: white;\n",
       "                    --jp-widgets-label-color: white;\n",
       "                    --jp-ui-font-color1: white;\n",
       "                    --jp-layout-color2: #454545;\n",
       "                    background-color: #383838;\n",
       "                }\n",
       "\n",
       "                .geemap-dark .jupyter-button {\n",
       "                    --jp-layout-color3: #383838;\n",
       "                }\n",
       "\n",
       "                .geemap-colab {\n",
       "                    background-color: var(--colab-primary-surface-color, white);\n",
       "                }\n",
       "\n",
       "                .geemap-colab .jupyter-button {\n",
       "                    --jp-layout-color3: var(--colab-primary-surface-color, white);\n",
       "                }\n",
       "            </style>\n",
       "            "
      ],
      "text/plain": [
       "<IPython.core.display.HTML object>"
      ]
     },
     "metadata": {},
     "output_type": "display_data"
    }
   ],
   "source": [
    "risma_ids = [\n",
    "    'MB1', 'MB2', \n",
    "    'MB3', 'MB4', \n",
    "    'MB5', 'MB6', \n",
    "    # 'MB7', 'MB8', 'MB9', 'MB10',\n",
    "    #  'MB11', 'MB12', 'MB13', 'MB14', 'MB15'\n",
    "]"
   ]
  },
  {
   "cell_type": "code",
   "execution_count": 3,
   "id": "8f15531e",
   "metadata": {},
   "outputs": [
    {
     "data": {
      "text/html": [
       "\n",
       "            <style>\n",
       "                .geemap-dark {\n",
       "                    --jp-widgets-color: white;\n",
       "                    --jp-widgets-label-color: white;\n",
       "                    --jp-ui-font-color1: white;\n",
       "                    --jp-layout-color2: #454545;\n",
       "                    background-color: #383838;\n",
       "                }\n",
       "\n",
       "                .geemap-dark .jupyter-button {\n",
       "                    --jp-layout-color3: #383838;\n",
       "                }\n",
       "\n",
       "                .geemap-colab {\n",
       "                    background-color: var(--colab-primary-surface-color, white);\n",
       "                }\n",
       "\n",
       "                .geemap-colab .jupyter-button {\n",
       "                    --jp-layout-color3: var(--colab-primary-surface-color, white);\n",
       "                }\n",
       "            </style>\n",
       "            "
      ],
      "text/plain": [
       "<IPython.core.display.HTML object>"
      ]
     },
     "metadata": {},
     "output_type": "display_data"
    },
    {
     "name": "stdout",
     "output_type": "stream",
     "text": [
      "Local directory for S1 data: ../assets/inputs/S1_CSV_files\n",
      "Hello from the Earth Engine servers!\n"
     ]
    },
    {
     "data": {
      "application/vnd.jupyter.widget-view+json": {
       "model_id": "f168740668b14188aa959d7b1ea82573",
       "version_major": 2,
       "version_minor": 0
      },
      "text/plain": [
       "Exporting S1 data from GEE:   0%|          | 0/6 [00:00<?, ?it/s]"
      ]
     },
     "metadata": {},
     "output_type": "display_data"
    },
    {
     "name": "stdout",
     "output_type": "stream",
     "text": [
      "The file '../assets/inputs/S1_CSV_files/S1_Backscatter_RISMA_MB1_2010_to_2024_buffer20m.csv' exists. \n",
      "\tSkipping download process for S1_Backscatter_RISMA_MB1_2010_to_2024_buffer20m.\n",
      "The file '../assets/inputs/S1_CSV_files/S1_Backscatter_RISMA_MB2_2010_to_2024_buffer20m.csv' exists. \n",
      "\tSkipping download process for S1_Backscatter_RISMA_MB2_2010_to_2024_buffer20m.\n",
      "The file '../assets/inputs/S1_CSV_files/S1_Backscatter_RISMA_MB3_2010_to_2024_buffer20m.csv' exists. \n",
      "\tSkipping download process for S1_Backscatter_RISMA_MB3_2010_to_2024_buffer20m.\n",
      "The file '../assets/inputs/S1_CSV_files/S1_Backscatter_RISMA_MB4_2010_to_2024_buffer20m.csv' exists. \n",
      "\tSkipping download process for S1_Backscatter_RISMA_MB4_2010_to_2024_buffer20m.\n",
      "The file '../assets/inputs/S1_CSV_files/S1_Backscatter_RISMA_MB5_2010_to_2024_buffer20m.csv' does not exist. \n",
      "\tProceeding with download process for S1_Backscatter_RISMA_MB5_2010_to_2024_buffer20m.\n",
      "Descending image size: 113\n",
      "Ascending image size: 320\n",
      "RISMA Stations MB5: Export task started with ID: LHAFWNXBFTBWVNBIHCH4V5PR\n"
     ]
    },
    {
     "data": {
      "application/vnd.jupyter.widget-view+json": {
       "model_id": "4820639801c54847a5edc5959ee6f008",
       "version_major": 2,
       "version_minor": 0
      },
      "text/plain": [
       "GEE Task: PENDING: 0 checks [00:00, ? checks/s]"
      ]
     },
     "metadata": {},
     "output_type": "display_data"
    },
    {
     "name": "stdout",
     "output_type": "stream",
     "text": [
      "\n",
      "\tProgress: Task for MB5 is COMPLETED.\n",
      "Running on local machine detected!\n",
      "Please download manually the nitropulse_S1_exports folder from Google Drive to ../assets/inputs/S1_CSV_files.\n",
      "The file '../assets/inputs/S1_CSV_files/S1_Backscatter_RISMA_MB6_2010_to_2024_buffer20m.csv' does not exist. \n",
      "\tProceeding with download process for S1_Backscatter_RISMA_MB6_2010_to_2024_buffer20m.\n",
      "Descending image size: 113\n",
      "Ascending image size: 320\n",
      "RISMA Stations MB6: Export task started with ID: EUKWN6MVS5DMSPIL3AKEBIB6\n"
     ]
    },
    {
     "data": {
      "application/vnd.jupyter.widget-view+json": {
       "model_id": "25c69f6331e94644a163b48939f2edeb",
       "version_major": 2,
       "version_minor": 0
      },
      "text/plain": [
       "GEE Task: PENDING: 0 checks [00:00, ? checks/s]"
      ]
     },
     "metadata": {},
     "output_type": "display_data"
    },
    {
     "name": "stdout",
     "output_type": "stream",
     "text": [
      "\n",
      "\tProgress: Task for MB6 is COMPLETED.\n",
      "Running on local machine detected!\n",
      "Please download manually the nitropulse_S1_exports folder from Google Drive to ../assets/inputs/S1_CSV_files.\n"
     ]
    }
   ],
   "source": [
    "s1 = S1Data(workspace_dir='../assets', auto_download=False)\n",
    "s1.download_S1_data(\n",
    "    stations=risma_ids, buffer_distance=20, \n",
    "    start_date='2010-01-01', end_date='2024-01-01', \n",
    "    gee_project_id='ee-mortezakhazaei1370', roi_asset_id='RISMA_Stations_Canada')"
   ]
  },
  {
   "cell_type": "code",
   "execution_count": 4,
   "id": "7fb13c7c",
   "metadata": {},
   "outputs": [
    {
     "data": {
      "text/html": [
       "\n",
       "            <style>\n",
       "                .geemap-dark {\n",
       "                    --jp-widgets-color: white;\n",
       "                    --jp-widgets-label-color: white;\n",
       "                    --jp-ui-font-color1: white;\n",
       "                    --jp-layout-color2: #454545;\n",
       "                    background-color: #383838;\n",
       "                }\n",
       "\n",
       "                .geemap-dark .jupyter-button {\n",
       "                    --jp-layout-color3: #383838;\n",
       "                }\n",
       "\n",
       "                .geemap-colab {\n",
       "                    background-color: var(--colab-primary-surface-color, white);\n",
       "                }\n",
       "\n",
       "                .geemap-colab .jupyter-button {\n",
       "                    --jp-layout-color3: var(--colab-primary-surface-color, white);\n",
       "                }\n",
       "            </style>\n",
       "            "
      ],
      "text/plain": [
       "<IPython.core.display.HTML object>"
      ]
     },
     "metadata": {},
     "output_type": "display_data"
    },
    {
     "data": {
      "application/vnd.jupyter.widget-view+json": {
       "model_id": "e9f834c107c34788ace4f7ec4f66ccb8",
       "version_major": 2,
       "version_minor": 0
      },
      "text/plain": [
       "Loading S1 files:   0%|          | 0/4 [00:00<?, ?it/s]"
      ]
     },
     "metadata": {},
     "output_type": "display_data"
    },
    {
     "name": "stdout",
     "output_type": "stream",
     "text": [
      "(1676, 9)\n"
     ]
    },
    {
     "data": {
      "text/html": [
       "<div>\n",
       "<style scoped>\n",
       "    .dataframe tbody tr th:only-of-type {\n",
       "        vertical-align: middle;\n",
       "    }\n",
       "\n",
       "    .dataframe tbody tr th {\n",
       "        vertical-align: top;\n",
       "    }\n",
       "\n",
       "    .dataframe thead th {\n",
       "        text-align: right;\n",
       "    }\n",
       "</style>\n",
       "<table border=\"1\" class=\"dataframe\">\n",
       "  <thead>\n",
       "    <tr style=\"text-align: right;\">\n",
       "      <th>band</th>\n",
       "      <th>index</th>\n",
       "      <th>op</th>\n",
       "      <th>year</th>\n",
       "      <th>doy</th>\n",
       "      <th>VH</th>\n",
       "      <th>VV</th>\n",
       "      <th>angle</th>\n",
       "      <th>lc</th>\n",
       "      <th>Station</th>\n",
       "    </tr>\n",
       "  </thead>\n",
       "  <tbody>\n",
       "    <tr>\n",
       "      <th>0</th>\n",
       "      <td>0</td>\n",
       "      <td>0</td>\n",
       "      <td>2015</td>\n",
       "      <td>115</td>\n",
       "      <td>-20.0</td>\n",
       "      <td>-13.0</td>\n",
       "      <td>40.0</td>\n",
       "      <td>146</td>\n",
       "      <td>MB1</td>\n",
       "    </tr>\n",
       "    <tr>\n",
       "      <th>1</th>\n",
       "      <td>1</td>\n",
       "      <td>0</td>\n",
       "      <td>2015</td>\n",
       "      <td>127</td>\n",
       "      <td>-18.0</td>\n",
       "      <td>-12.0</td>\n",
       "      <td>40.0</td>\n",
       "      <td>146</td>\n",
       "      <td>MB1</td>\n",
       "    </tr>\n",
       "    <tr>\n",
       "      <th>2</th>\n",
       "      <td>2</td>\n",
       "      <td>0</td>\n",
       "      <td>2015</td>\n",
       "      <td>139</td>\n",
       "      <td>-17.0</td>\n",
       "      <td>-10.0</td>\n",
       "      <td>40.0</td>\n",
       "      <td>146</td>\n",
       "      <td>MB1</td>\n",
       "    </tr>\n",
       "    <tr>\n",
       "      <th>3</th>\n",
       "      <td>3</td>\n",
       "      <td>0</td>\n",
       "      <td>2015</td>\n",
       "      <td>146</td>\n",
       "      <td>-18.0</td>\n",
       "      <td>-12.0</td>\n",
       "      <td>31.0</td>\n",
       "      <td>146</td>\n",
       "      <td>MB1</td>\n",
       "    </tr>\n",
       "    <tr>\n",
       "      <th>4</th>\n",
       "      <td>4</td>\n",
       "      <td>0</td>\n",
       "      <td>2015</td>\n",
       "      <td>158</td>\n",
       "      <td>-16.0</td>\n",
       "      <td>-9.0</td>\n",
       "      <td>31.0</td>\n",
       "      <td>146</td>\n",
       "      <td>MB1</td>\n",
       "    </tr>\n",
       "  </tbody>\n",
       "</table>\n",
       "</div>"
      ],
      "text/plain": [
       "band  index  op  year  doy    VH    VV  angle   lc Station\n",
       "0         0   0  2015  115 -20.0 -13.0   40.0  146     MB1\n",
       "1         1   0  2015  127 -18.0 -12.0   40.0  146     MB1\n",
       "2         2   0  2015  139 -17.0 -10.0   40.0  146     MB1\n",
       "3         3   0  2015  146 -18.0 -12.0   31.0  146     MB1\n",
       "4         4   0  2015  158 -16.0  -9.0   31.0  146     MB1"
      ]
     },
     "execution_count": 4,
     "metadata": {},
     "output_type": "execute_result"
    }
   ],
   "source": [
    "df = s1.load_df()\n",
    "print(df.shape)\n",
    "df.head()"
   ]
  }
 ],
 "metadata": {
  "kernelspec": {
   "display_name": ".venv (3.11.2)",
   "language": "python",
   "name": "python3"
  },
  "language_info": {
   "codemirror_mode": {
    "name": "ipython",
    "version": 3
   },
   "file_extension": ".py",
   "mimetype": "text/x-python",
   "name": "python",
   "nbconvert_exporter": "python",
   "pygments_lexer": "ipython3",
   "version": "3.11.2"
  }
 },
 "nbformat": 4,
 "nbformat_minor": 5
}
