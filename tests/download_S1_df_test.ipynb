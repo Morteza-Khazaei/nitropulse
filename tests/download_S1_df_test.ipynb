{
 "cells": [
  {
   "cell_type": "code",
   "execution_count": null,
   "id": "81a9f565",
   "metadata": {},
   "outputs": [],
   "source": [
    "from nitropulse import S1Data"
   ]
  },
  {
   "cell_type": "code",
   "execution_count": null,
   "id": "83a2f898",
   "metadata": {},
   "outputs": [],
   "source": [
    "risma_stations = ['RISMA_MB1', 'RISMA_MB2', \n",
    "                  'RISMA_MB3', 'RISMA_MB4', \n",
    "                  'RISMA_MB5', 'RISMA_MB6', \n",
    "                  'RISMA_MB7', 'RISMA_MB8', \n",
    "                  'RISMA_MB9', 'RISMA_MB10', \n",
    "                  'RISMA_MB11', 'RISMA_MB12', \n",
    "                  'RISMA_MB13', 'RISMA_MB14', \n",
    "                  'RISMA_MB15', 'RISMA_MB16',\n",
    "                  'RISMA_MB17', 'RISMA_MB18', \n",
    "                  'RISMA_MB19', 'RISMA_MB20',\n",
    "                  'RISMA_MB21', 'RISMA_MB22', \n",
    "                  'RISMA_MB23', 'RISMA_MB24',\n",
    "                  'RISMA_MB25', 'RISMA_MB26',\n",
    "                  'RISMA_SK1', 'RISMA_SK2', \n",
    "                  'RISMA_SK3', 'RISMA_SK4',\n",
    "\n",
    "                  ]"
   ]
  },
  {
   "cell_type": "code",
   "execution_count": null,
   "id": "8f15531e",
   "metadata": {},
   "outputs": [],
   "source": [
    "s1 = S1Data(workspace_dir='/home/morteza/.nitropulse', auto_download=False)\n",
    "s1.download_S1_data(\n",
    "    stations=risma_stations, buffer_distance=15, \n",
    "    start_date='2015-01-01', end_date='2024-01-01', \n",
    "    gee_project_id='ee-mortezakhazaei1370', roi_asset_id='RISMA_Stations_Canada')"
   ]
  },
  {
   "cell_type": "code",
   "execution_count": null,
   "id": "7fb13c7c",
   "metadata": {},
   "outputs": [],
   "source": [
    "df = s1.load_df()\n",
    "print(df.shape)\n",
    "df.head()"
   ]
  }
 ],
 "metadata": {
  "kernelspec": {
   "display_name": ".venv (3.11.2)",
   "language": "python",
   "name": "python3"
  },
  "language_info": {
   "codemirror_mode": {
    "name": "ipython",
    "version": 3
   },
   "file_extension": ".py",
   "mimetype": "text/x-python",
   "name": "python",
   "nbconvert_exporter": "python",
   "pygments_lexer": "ipython3",
   "version": "3.11.2"
  }
 },
 "nbformat": 4,
 "nbformat_minor": 5
}
