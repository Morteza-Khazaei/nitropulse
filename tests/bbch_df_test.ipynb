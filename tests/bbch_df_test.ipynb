{
 "cells": [
  {
   "cell_type": "code",
   "execution_count": null,
   "id": "24b9fefe",
   "metadata": {},
   "outputs": [],
   "source": [
    "import seaborn as sns\n",
    "import pandas as pd\n",
    "import matplotlib.pyplot as plt"
   ]
  },
  {
   "cell_type": "code",
   "execution_count": null,
   "id": "9994950f",
   "metadata": {},
   "outputs": [],
   "source": [
    "from nitropulse import BBCH"
   ]
  },
  {
   "cell_type": "code",
   "execution_count": null,
   "id": "6ec560b1",
   "metadata": {},
   "outputs": [],
   "source": [
    "pheno = BBCH(workspace_dir='/home/morteza/.nitropulse')\n",
    "df = pheno.run()\n",
    "print(df.shape)\n",
    "df.head()"
   ]
  },
  {
   "cell_type": "code",
   "execution_count": null,
   "id": "d3163d72",
   "metadata": {},
   "outputs": [],
   "source": [
    "# df = df[df['lc'] != 177].copy()\n",
    "# df.shape"
   ]
  },
  {
   "cell_type": "code",
   "execution_count": null,
   "id": "98580cfa",
   "metadata": {},
   "outputs": [],
   "source": [
    "# count records per year for lc 162 and 177\n",
    "counts = df[df['lc'].isin([30, 34, 162])].groupby(['lc', 'year', 'station']).size().unstack(fill_value=0).sort_index(axis=1)\n",
    "counts"
   ]
  },
  {
   "cell_type": "code",
   "execution_count": null,
   "id": "96cd1b69",
   "metadata": {},
   "outputs": [],
   "source": [
    "# also print totals per lc (optional)\n",
    "print(\"\\nTotals per lc:\")\n",
    "print(counts.sum(axis=1))"
   ]
  },
  {
   "cell_type": "code",
   "execution_count": null,
   "id": "984b0501",
   "metadata": {},
   "outputs": [],
   "source": [
    "# save the DataFrame to a CSV file\n",
    "df.to_csv('/home/morteza/.nitropulse/outputs/pheno_df.csv', index=False)"
   ]
  },
  {
   "cell_type": "code",
   "execution_count": null,
   "id": "88dc87bf",
   "metadata": {},
   "outputs": [],
   "source": [
    "# import pandas as pd\n",
    "\n",
    "# df = pd.read_csv('~/.nitropulse/outputs/pheno_df.csv').dropna(subset=['bbch'])\n",
    "# print(df.shape)\n",
    "# df.tail()"
   ]
  },
  {
   "cell_type": "code",
   "execution_count": null,
   "id": "b65b7ede",
   "metadata": {},
   "outputs": [],
   "source": [
    "df['lc'] = df['lc'].astype(int)\n",
    "# Get unique crop types (all 8 crop types)\n",
    "crop_types = df['lc'].unique()  # Replace 'lc' with your crop type column name\n",
    "crop_types = sorted(crop_types)  # Take all 8 crop types\n",
    "crop_types"
   ]
  },
  {
   "cell_type": "code",
   "execution_count": null,
   "id": "52f88def",
   "metadata": {},
   "outputs": [],
   "source": [
    "plt.figure(figsize=(10, 6))\n",
    "sns.lineplot(x='doy', y='cum_gdd', data=df, hue='year', style='lc', markers=True, dashes=False)\n",
    "plt.xlabel('Day of Year (doy)')\n",
    "plt.ylabel('Cumulative GDD')\n",
    "plt.title('Cumulative GDD (Air and Soil) vs Day of Year')\n",
    "plt.legend(ncol=2, bbox_to_anchor=(1.05, 1), loc='upper left')\n",
    "plt.show()"
   ]
  },
  {
   "cell_type": "code",
   "execution_count": null,
   "id": "53fb2799",
   "metadata": {},
   "outputs": [],
   "source": [
    "# Create the line plot using seaborn\n",
    "plt.figure(figsize=(10, 6))  # Adjust figure size as needed\n",
    "sns.lineplot(x='cum_gdd', y='cum_ssm', hue='year', data=df, palette='viridis', style='lc', markers=True, dashes=False)  # Use 'year' for color\n",
    "plt.xlabel('Cumulative GDD')\n",
    "plt.ylabel('Cumulative SSM')\n",
    "plt.title('Cumulative SSM vs. Cumulative GDD')\n",
    "plt.legend(ncol=3, loc='upper left')\n",
    "plt.show()"
   ]
  },
  {
   "cell_type": "code",
   "execution_count": null,
   "id": "146966a6",
   "metadata": {},
   "outputs": [],
   "source": [
    "df_bare = df[df.lc.isin([30, 34])].copy()\n",
    "print(df_bare.shape)\n",
    "df_bare.head()"
   ]
  },
  {
   "cell_type": "code",
   "execution_count": null,
   "id": "445a8ce6",
   "metadata": {},
   "outputs": [],
   "source": [
    "plt.figure(figsize=(10, 6))\n",
    "sns.lineplot(x='doy', y='bbch', data=df[df.lc.isin([30, 34, 162])], hue='year', style='lc', markers=True, dashes=False)\n",
    "plt.xlabel('Date')\n",
    "plt.ylabel('BBCH')\n",
    "plt.title('BBCH vs. Date')\n",
    "plt.xticks(rotation=45)  # Rotate x-axis labels for better readability\n",
    "plt.tight_layout()\n",
    "plt.legend(ncol=3, loc='upper left')\n",
    "plt.show()"
   ]
  },
  {
   "cell_type": "code",
   "execution_count": null,
   "id": "3eb454bf",
   "metadata": {},
   "outputs": [],
   "source": [
    "df['date'] = pd.to_datetime(df['date'])\n",
    "df['year'] = df['date'].dt.year.astype(str)  # Extract year from date\n",
    "df['doy'] = df['date'].dt.dayofyear.astype(int)  # Extract day of year from date"
   ]
  },
  {
   "cell_type": "code",
   "execution_count": null,
   "id": "bd426280",
   "metadata": {},
   "outputs": [],
   "source": [
    "# Get unique crop types (all 8 crop types)\n",
    "crop_types = df['lc'].unique()  # Replace 'lc' with your crop type column name\n",
    "crop_types = sorted(crop_types)  # Take all 8 crop types\n",
    "crop_types"
   ]
  },
  {
   "cell_type": "code",
   "execution_count": null,
   "id": "f0d1ca15",
   "metadata": {},
   "outputs": [],
   "source": [
    "fig, axes = plt.subplots(4, 4, figsize=(20, 10), sharex=True, sharey=True)\n",
    "fig.suptitle('Cumulative GDD per DOY', fontsize=16, fontweight='bold')\n",
    "\n",
    "# # Get unique crop types (all 8 crop types)\n",
    "# crop_types = df['lc'].unique()  # Replace 'lc' with your crop type column name\n",
    "# crop_types = sorted(crop_types)[:8]  # Take all 8 crop types\n",
    "\n",
    "# Plot crop height for each crop type\n",
    "for i, crop in enumerate(crop_types):\n",
    "    row = i // 4  # Determine row (0 or 1)\n",
    "    col = i % 4   # Determine column (0, 1, 2, or 3)\n",
    "    \n",
    "    crop_data = df[df['lc'] == crop]  # Replace 'lc' with your crop type column\n",
    "    \n",
    "    # Plot crop height vs DOY with year as hue and crop type as style\n",
    "    sns.lineplot(x='doy', y='cum_gdd', data=crop_data, \n",
    "                 hue='year', \n",
    "                 style='year', \n",
    "                 markers=True, dashes=False, markersize=8, ax=axes[row, col], palette='tab10')\n",
    "    \n",
    "    axes[row, col].set_title(f'AAFC Crop Type: {crop}', fontsize=13, fontweight='bold')\n",
    "    axes[row, col].set_xlabel('DOY', fontsize=12, fontweight='bold')\n",
    "    axes[row, col].set_ylabel('Cumulative GDD', fontsize=12, fontweight='bold')\n",
    "    axes[row, col].tick_params(labelsize=11)\n",
    "    \n",
    "    # Adjust legend for each subplot\n",
    "    legend = axes[row, col].get_legend()\n",
    "    if legend:\n",
    "        axes[row, col].legend(ncol=2, loc='upper left', fontsize=10)\n",
    "\n",
    "plt.tight_layout()\n",
    "plt.show()"
   ]
  },
  {
   "cell_type": "code",
   "execution_count": null,
   "id": "5bf67672",
   "metadata": {},
   "outputs": [],
   "source": [
    "fig, axes = plt.subplots(4, 4, figsize=(20, 10), sharex=True, sharey=True)\n",
    "fig.suptitle('BBCH per DOY', fontsize=16, fontweight='bold')\n",
    "\n",
    "\n",
    "\n",
    "# Plot crop height for each crop type\n",
    "for i, crop in enumerate(crop_types):\n",
    "    row = i // 4  # Determine row (0 or 1)\n",
    "    col = i % 4   # Determine column (0, 1, 2, or 3)\n",
    "    \n",
    "    crop_data = df[df['lc'] == crop]  # Replace 'lc' with your crop type column\n",
    "    \n",
    "    # Plot crop height vs DOY with year as hue and crop type as style\n",
    "    sns.lineplot(x='doy', y='bbch', data=crop_data, \n",
    "                 hue='year', \n",
    "                 style='year', \n",
    "                 markers=True, dashes=False, markersize=8, ax=axes[row, col], palette='tab10')\n",
    "    \n",
    "    axes[row, col].set_title(f'AAFC Crop Type: {crop}', fontsize=13, fontweight='bold')\n",
    "    axes[row, col].set_xlabel('DOY', fontsize=12, fontweight='bold')\n",
    "    axes[row, col].set_ylabel('BBCH', fontsize=12, fontweight='bold')\n",
    "    axes[row, col].tick_params(labelsize=11)\n",
    "    \n",
    "    # Adjust legend for each subplot\n",
    "    legend = axes[row, col].get_legend()\n",
    "    if legend:\n",
    "        axes[row, col].legend(ncol=2, loc='upper left', fontsize=10)\n",
    "\n",
    "plt.tight_layout()\n",
    "plt.show()"
   ]
  },
  {
   "cell_type": "code",
   "execution_count": null,
   "id": "b66b68aa",
   "metadata": {},
   "outputs": [],
   "source": [
    "fig, axes = plt.subplots(4, 4, figsize=(20, 10), sharex=True, sharey=True)\n",
    "fig.suptitle('Cumulative GDD vs. cumulative SSM', fontsize=16, fontweight='bold')\n",
    "\n",
    "# # Get unique crop types (all 8 crop types)\n",
    "# crop_types = df['lc'].unique()  # Replace 'lc' with your crop type column name\n",
    "# crop_types = sorted(crop_types)[:8]  # Take all 8 crop types\n",
    "\n",
    "# Plot crop height for each crop type\n",
    "for i, crop in enumerate(crop_types):\n",
    "    row = i // 4  # Determine row (0 or 1)\n",
    "    col = i % 4   # Determine column (0, 1, 2, or 3)\n",
    "    \n",
    "    crop_data = df[df['lc'] == crop]  # Replace 'lc' with your crop type column\n",
    "    \n",
    "    # Plot crop height vs DOY with year as hue and crop type as style\n",
    "    sns.lineplot(x='cum_gdd', y='cum_ssm', data=crop_data, \n",
    "                 hue='year', \n",
    "                 style='year', \n",
    "                 markers=True, dashes=False, markersize=8, ax=axes[row, col], palette='tab10')\n",
    "    \n",
    "    axes[row, col].set_title(f'AAFC Crop Type: {crop}', fontsize=13, fontweight='bold')\n",
    "    axes[row, col].set_xlabel('Cumulative GDD', fontsize=12, fontweight='bold')\n",
    "    axes[row, col].set_ylabel('Cumulative SSM', fontsize=12, fontweight='bold')\n",
    "    axes[row, col].tick_params(labelsize=11)\n",
    "    \n",
    "    # Adjust legend for each subplot\n",
    "    legend = axes[row, col].get_legend()\n",
    "    if legend:\n",
    "        axes[row, col].legend(ncol=2, loc='upper left', fontsize=10)\n",
    "\n",
    "plt.tight_layout()\n",
    "plt.show()"
   ]
  }
 ],
 "metadata": {
  "kernelspec": {
   "display_name": ".venv (3.11.2)",
   "language": "python",
   "name": "python3"
  },
  "language_info": {
   "codemirror_mode": {
    "name": "ipython",
    "version": 3
   },
   "file_extension": ".py",
   "mimetype": "text/x-python",
   "name": "python",
   "nbconvert_exporter": "python",
   "pygments_lexer": "ipython3",
   "version": "3.11.2"
  }
 },
 "nbformat": 4,
 "nbformat_minor": 5
}
