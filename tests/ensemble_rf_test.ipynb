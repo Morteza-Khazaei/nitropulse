{
 "cells": [
  {
   "cell_type": "code",
   "execution_count": 1,
   "id": "7e834ae6",
   "metadata": {},
   "outputs": [],
   "source": [
    "from nitropulse import RegressionRF"
   ]
  },
  {
   "cell_type": "code",
   "execution_count": 2,
   "id": "109377be",
   "metadata": {},
   "outputs": [
    {
     "data": {
      "text/html": [
       "\n",
       "            <style>\n",
       "                .geemap-dark {\n",
       "                    --jp-widgets-color: white;\n",
       "                    --jp-widgets-label-color: white;\n",
       "                    --jp-ui-font-color1: white;\n",
       "                    --jp-layout-color2: #454545;\n",
       "                    background-color: #383838;\n",
       "                }\n",
       "\n",
       "                .geemap-dark .jupyter-button {\n",
       "                    --jp-layout-color3: #383838;\n",
       "                }\n",
       "\n",
       "                .geemap-colab {\n",
       "                    background-color: var(--colab-primary-surface-color, white);\n",
       "                }\n",
       "\n",
       "                .geemap-colab .jupyter-button {\n",
       "                    --jp-layout-color3: var(--colab-primary-surface-color, white);\n",
       "                }\n",
       "            </style>\n",
       "            "
      ],
      "text/plain": [
       "<IPython.core.display.HTML object>"
      ]
     },
     "metadata": {},
     "output_type": "display_data"
    }
   ],
   "source": [
    "import pandas as pd"
   ]
  },
  {
   "cell_type": "code",
   "execution_count": 3,
   "id": "060a93f3",
   "metadata": {},
   "outputs": [
    {
     "data": {
      "text/html": [
       "\n",
       "            <style>\n",
       "                .geemap-dark {\n",
       "                    --jp-widgets-color: white;\n",
       "                    --jp-widgets-label-color: white;\n",
       "                    --jp-ui-font-color1: white;\n",
       "                    --jp-layout-color2: #454545;\n",
       "                    background-color: #383838;\n",
       "                }\n",
       "\n",
       "                .geemap-dark .jupyter-button {\n",
       "                    --jp-layout-color3: #383838;\n",
       "                }\n",
       "\n",
       "                .geemap-colab {\n",
       "                    background-color: var(--colab-primary-surface-color, white);\n",
       "                }\n",
       "\n",
       "                .geemap-colab .jupyter-button {\n",
       "                    --jp-layout-color3: var(--colab-primary-surface-color, white);\n",
       "                }\n",
       "            </style>\n",
       "            "
      ],
      "text/plain": [
       "<IPython.core.display.HTML object>"
      ]
     },
     "metadata": {},
     "output_type": "display_data"
    },
    {
     "name": "stdout",
     "output_type": "stream",
     "text": [
      "(5051, 41)\n"
     ]
    },
    {
     "data": {
      "text/html": [
       "<div>\n",
       "<style scoped>\n",
       "    .dataframe tbody tr th:only-of-type {\n",
       "        vertical-align: middle;\n",
       "    }\n",
       "\n",
       "    .dataframe tbody tr th {\n",
       "        vertical-align: top;\n",
       "    }\n",
       "\n",
       "    .dataframe thead th {\n",
       "        text-align: right;\n",
       "    }\n",
       "</style>\n",
       "<table border=\"1\" class=\"dataframe\">\n",
       "  <thead>\n",
       "    <tr style=\"text-align: right;\">\n",
       "      <th></th>\n",
       "      <th>index</th>\n",
       "      <th>date</th>\n",
       "      <th>op</th>\n",
       "      <th>VH</th>\n",
       "      <th>VV</th>\n",
       "      <th>angle</th>\n",
       "      <th>lc</th>\n",
       "      <th>Station</th>\n",
       "      <th>station</th>\n",
       "      <th>depth</th>\n",
       "      <th>...</th>\n",
       "      <th>c</th>\n",
       "      <th>w</th>\n",
       "      <th>vvv</th>\n",
       "      <th>vvs</th>\n",
       "      <th>s</th>\n",
       "      <th>l</th>\n",
       "      <th>rvi</th>\n",
       "      <th>height</th>\n",
       "      <th>k</th>\n",
       "      <th>b</th>\n",
       "    </tr>\n",
       "  </thead>\n",
       "  <tbody>\n",
       "    <tr>\n",
       "      <th>0</th>\n",
       "      <td>0</td>\n",
       "      <td>2015-03-28 00:56:57</td>\n",
       "      <td>0</td>\n",
       "      <td>-21.0</td>\n",
       "      <td>-11.0</td>\n",
       "      <td>41.0</td>\n",
       "      <td>110</td>\n",
       "      <td>SK3</td>\n",
       "      <td>SK3</td>\n",
       "      <td>0 to 5 cm</td>\n",
       "      <td>...</td>\n",
       "      <td>0.091748</td>\n",
       "      <td>0.094531</td>\n",
       "      <td>-13.991384</td>\n",
       "      <td>-14.029299</td>\n",
       "      <td>0.038240</td>\n",
       "      <td>0.083454</td>\n",
       "      <td>0.363636</td>\n",
       "      <td>0.002909</td>\n",
       "      <td>0.80</td>\n",
       "      <td>0.0</td>\n",
       "    </tr>\n",
       "    <tr>\n",
       "      <th>1</th>\n",
       "      <td>0</td>\n",
       "      <td>2015-03-28 00:56:57</td>\n",
       "      <td>0</td>\n",
       "      <td>-15.0</td>\n",
       "      <td>-11.0</td>\n",
       "      <td>41.0</td>\n",
       "      <td>110</td>\n",
       "      <td>SK4</td>\n",
       "      <td>SK4</td>\n",
       "      <td>0 to 5 cm</td>\n",
       "      <td>...</td>\n",
       "      <td>0.100000</td>\n",
       "      <td>0.100000</td>\n",
       "      <td>-14.047640</td>\n",
       "      <td>-13.973278</td>\n",
       "      <td>0.038606</td>\n",
       "      <td>0.074577</td>\n",
       "      <td>1.138989</td>\n",
       "      <td>0.009112</td>\n",
       "      <td>0.80</td>\n",
       "      <td>0.0</td>\n",
       "    </tr>\n",
       "    <tr>\n",
       "      <th>2</th>\n",
       "      <td>0</td>\n",
       "      <td>2015-03-28 00:56:57</td>\n",
       "      <td>0</td>\n",
       "      <td>-17.0</td>\n",
       "      <td>-11.0</td>\n",
       "      <td>41.0</td>\n",
       "      <td>122</td>\n",
       "      <td>SK2</td>\n",
       "      <td>SK2</td>\n",
       "      <td>0 to 5 cm</td>\n",
       "      <td>...</td>\n",
       "      <td>0.100000</td>\n",
       "      <td>0.100000</td>\n",
       "      <td>-14.060940</td>\n",
       "      <td>-13.960243</td>\n",
       "      <td>0.040100</td>\n",
       "      <td>0.074518</td>\n",
       "      <td>0.803040</td>\n",
       "      <td>0.008030</td>\n",
       "      <td>1.00</td>\n",
       "      <td>0.0</td>\n",
       "    </tr>\n",
       "    <tr>\n",
       "      <th>3</th>\n",
       "      <td>0</td>\n",
       "      <td>2015-03-28 00:56:57</td>\n",
       "      <td>0</td>\n",
       "      <td>-18.0</td>\n",
       "      <td>-11.0</td>\n",
       "      <td>41.0</td>\n",
       "      <td>122</td>\n",
       "      <td>SK1</td>\n",
       "      <td>SK1</td>\n",
       "      <td>0 to 5 cm</td>\n",
       "      <td>...</td>\n",
       "      <td>0.091390</td>\n",
       "      <td>0.104585</td>\n",
       "      <td>-13.958707</td>\n",
       "      <td>-14.062513</td>\n",
       "      <td>0.044286</td>\n",
       "      <td>0.081773</td>\n",
       "      <td>0.665350</td>\n",
       "      <td>0.006654</td>\n",
       "      <td>1.00</td>\n",
       "      <td>0.0</td>\n",
       "    </tr>\n",
       "    <tr>\n",
       "      <th>4</th>\n",
       "      <td>0</td>\n",
       "      <td>2015-04-25 00:23:20</td>\n",
       "      <td>0</td>\n",
       "      <td>-20.0</td>\n",
       "      <td>-11.0</td>\n",
       "      <td>40.0</td>\n",
       "      <td>158</td>\n",
       "      <td>MB7</td>\n",
       "      <td>MB7</td>\n",
       "      <td>0 to 5 cm</td>\n",
       "      <td>...</td>\n",
       "      <td>0.094532</td>\n",
       "      <td>0.111709</td>\n",
       "      <td>-14.053754</td>\n",
       "      <td>-13.967277</td>\n",
       "      <td>0.040103</td>\n",
       "      <td>0.081387</td>\n",
       "      <td>0.447263</td>\n",
       "      <td>0.004249</td>\n",
       "      <td>0.95</td>\n",
       "      <td>0.0</td>\n",
       "    </tr>\n",
       "  </tbody>\n",
       "</table>\n",
       "<p>5 rows × 41 columns</p>\n",
       "</div>"
      ],
      "text/plain": [
       "   index                date  op    VH    VV  angle   lc Station station  \\\n",
       "0      0 2015-03-28 00:56:57   0 -21.0 -11.0   41.0  110     SK3     SK3   \n",
       "1      0 2015-03-28 00:56:57   0 -15.0 -11.0   41.0  110     SK4     SK4   \n",
       "2      0 2015-03-28 00:56:57   0 -17.0 -11.0   41.0  122     SK2     SK2   \n",
       "3      0 2015-03-28 00:56:57   0 -18.0 -11.0   41.0  122     SK1     SK1   \n",
       "4      0 2015-04-25 00:23:20   0 -20.0 -11.0   40.0  158     MB7     MB7   \n",
       "\n",
       "       depth  ...         c         w        vvv        vvs         s  \\\n",
       "0  0 to 5 cm  ...  0.091748  0.094531 -13.991384 -14.029299  0.038240   \n",
       "1  0 to 5 cm  ...  0.100000  0.100000 -14.047640 -13.973278  0.038606   \n",
       "2  0 to 5 cm  ...  0.100000  0.100000 -14.060940 -13.960243  0.040100   \n",
       "3  0 to 5 cm  ...  0.091390  0.104585 -13.958707 -14.062513  0.044286   \n",
       "4  0 to 5 cm  ...  0.094532  0.111709 -14.053754 -13.967277  0.040103   \n",
       "\n",
       "          l       rvi    height     k    b  \n",
       "0  0.083454  0.363636  0.002909  0.80  0.0  \n",
       "1  0.074577  1.138989  0.009112  0.80  0.0  \n",
       "2  0.074518  0.803040  0.008030  1.00  0.0  \n",
       "3  0.081773  0.665350  0.006654  1.00  0.0  \n",
       "4  0.081387  0.447263  0.004249  0.95  0.0  \n",
       "\n",
       "[5 rows x 41 columns]"
      ]
     },
     "execution_count": 3,
     "metadata": {},
     "output_type": "execute_result"
    }
   ],
   "source": [
    "# Load df from CSV\n",
    "inv_df = pd.read_csv(\"/home/morteza/.nitropulse/outputs/inv_df.csv\", parse_dates=['date'])\n",
    "\n",
    "print(inv_df.shape)\n",
    "inv_df.head()"
   ]
  },
  {
   "cell_type": "code",
   "execution_count": 4,
   "id": "297dc290",
   "metadata": {},
   "outputs": [
    {
     "data": {
      "text/html": [
       "\n",
       "            <style>\n",
       "                .geemap-dark {\n",
       "                    --jp-widgets-color: white;\n",
       "                    --jp-widgets-label-color: white;\n",
       "                    --jp-ui-font-color1: white;\n",
       "                    --jp-layout-color2: #454545;\n",
       "                    background-color: #383838;\n",
       "                }\n",
       "\n",
       "                .geemap-dark .jupyter-button {\n",
       "                    --jp-layout-color3: #383838;\n",
       "                }\n",
       "\n",
       "                .geemap-colab {\n",
       "                    background-color: var(--colab-primary-surface-color, white);\n",
       "                }\n",
       "\n",
       "                .geemap-colab .jupyter-button {\n",
       "                    --jp-layout-color3: var(--colab-primary-surface-color, white);\n",
       "                }\n",
       "            </style>\n",
       "            "
      ],
      "text/plain": [
       "<IPython.core.display.HTML object>"
      ]
     },
     "metadata": {},
     "output_type": "display_data"
    },
    {
     "data": {
      "image/png": "[encoded data removed]",
      "text/plain": [
       "<Figure size 1000x600 with 1 Axes>"
      ]
     },
     "metadata": {},
     "output_type": "display_data"
    }
   ],
   "source": [
    "import matplotlib.pyplot as plt\n",
    "import seaborn as sns\n",
    "\n",
    "\n",
    "plt.figure(figsize=(10, 6))\n",
    "sns.histplot(inv_df, x='l', kde=True, hue='lc')\n",
    "plt.title('Histogram of SSM')\n",
    "plt.xlabel('SSM')\n",
    "plt.ylabel('Frequency')\n",
    "plt.show()"
   ]
  },
  {
   "cell_type": "code",
   "execution_count": 5,
   "id": "bf5c5cbe",
   "metadata": {},
   "outputs": [
    {
     "data": {
      "text/html": [
       "\n",
       "            <style>\n",
       "                .geemap-dark {\n",
       "                    --jp-widgets-color: white;\n",
       "                    --jp-widgets-label-color: white;\n",
       "                    --jp-ui-font-color1: white;\n",
       "                    --jp-layout-color2: #454545;\n",
       "                    background-color: #383838;\n",
       "                }\n",
       "\n",
       "                .geemap-dark .jupyter-button {\n",
       "                    --jp-layout-color3: #383838;\n",
       "                }\n",
       "\n",
       "                .geemap-colab {\n",
       "                    background-color: var(--colab-primary-surface-color, white);\n",
       "                }\n",
       "\n",
       "                .geemap-colab .jupyter-button {\n",
       "                    --jp-layout-color3: var(--colab-primary-surface-color, white);\n",
       "                }\n",
       "            </style>\n",
       "            "
      ],
      "text/plain": [
       "<IPython.core.display.HTML object>"
      ]
     },
     "metadata": {},
     "output_type": "display_data"
    },
    {
     "data": {
      "application/vnd.jupyter.widget-view+json": {
       "model_id": "0255fcca5f254d7d88d824c74df00c1d",
       "version_major": 2,
       "version_minor": 0
      },
      "text/plain": [
       "Training ensemble models:   0%|          | 0/4 [00:00<?, ?it/s]"
      ]
     },
     "metadata": {},
     "output_type": "display_data"
    },
    {
     "name": "stdout",
     "output_type": "stream",
     "text": [
      "Training model for 'vvs' using features: ['vh', 'vv', 'angle', 'rvi', 'year', 'doy', 'lc', 'op']\n",
      "Metrics for vvs:\n",
      "\tR2: 0.9905\n",
      "\tMAE: 0.1774\n",
      "\tMSE: 0.0924\n",
      "\tRMSE: 0.3039\n",
      "\tUBRMSE: 0.3039\n",
      "\tBias: -0.0009\n",
      "\n",
      "Training model for 's' using features: ['vh', 'vv', 'angle', 'rvi', 'year', 'doy', 'lc', 'op']\n",
      "Metrics for s:\n",
      "\tR2: 0.9107\n",
      "\tMAE: 0.0016\n",
      "\tMSE: 0.0000\n",
      "\tRMSE: 0.0021\n",
      "\tUBRMSE: 0.0021\n",
      "\tBias: 0.0000\n",
      "\n",
      "Training model for 'l' using features: ['vh', 'vv', 'angle', 'rvi', 'year', 'doy', 'lc', 'op']\n",
      "Metrics for l:\n",
      "\tR2: 0.4194\n",
      "\tMAE: 0.0013\n",
      "\tMSE: 0.0000\n",
      "\tRMSE: 0.0039\n",
      "\tUBRMSE: 0.0039\n",
      "\tBias: -0.0004\n",
      "\n",
      "Training model for 'ssm' using features: ['angle', 'vvs', 's', 'l', 'year', 'doy', 'lc', 'op']\n",
      "Metrics for ssm:\n",
      "\tR2: 0.7161\n",
      "\tMAE: 0.0426\n",
      "\tMSE: 0.0031\n",
      "\tRMSE: 0.0555\n",
      "\tUBRMSE: 0.0554\n",
      "\tBias: -0.0023\n",
      "\n"
     ]
    }
   ],
   "source": [
    "ensrf = RegressionRF(workspace_dir='/home/morteza/.nitropulse', df=inv_df)\n",
    "rf_models = ensrf.run(vars=['vvs', 's', 'l', 'ssm'])"
   ]
  },
  {
   "cell_type": "code",
   "execution_count": 6,
   "id": "ef226aa9",
   "metadata": {},
   "outputs": [
    {
     "data": {
      "text/html": [
       "\n",
       "            <style>\n",
       "                .geemap-dark {\n",
       "                    --jp-widgets-color: white;\n",
       "                    --jp-widgets-label-color: white;\n",
       "                    --jp-ui-font-color1: white;\n",
       "                    --jp-layout-color2: #454545;\n",
       "                    background-color: #383838;\n",
       "                }\n",
       "\n",
       "                .geemap-dark .jupyter-button {\n",
       "                    --jp-layout-color3: #383838;\n",
       "                }\n",
       "\n",
       "                .geemap-colab {\n",
       "                    background-color: var(--colab-primary-surface-color, white);\n",
       "                }\n",
       "\n",
       "                .geemap-colab .jupyter-button {\n",
       "                    --jp-layout-color3: var(--colab-primary-surface-color, white);\n",
       "                }\n",
       "            </style>\n",
       "            "
      ],
      "text/plain": [
       "<IPython.core.display.HTML object>"
      ]
     },
     "metadata": {},
     "output_type": "display_data"
    },
    {
     "name": "stderr",
     "output_type": "stream",
     "text": [
      "*** Earth Engine *** Share your feedback by taking our Annual Developer Satisfaction Survey: https://google.qualtrics.com/jfe/form/SV_7TDKVSyKvBdmMqW?ref=4i2o6\n"
     ]
    },
    {
     "data": {
      "application/vnd.jupyter.widget-view+json": {
       "model_id": "a8ebfe85a9794a54b4691a3dd0d3f181",
       "version_major": 2,
       "version_minor": 0
      },
      "text/plain": [
       "Uploading models to GEE:   0%|          | 0/4 [00:00<?, ?it/s]"
      ]
     },
     "metadata": {},
     "output_type": "display_data"
    },
    {
     "name": "stdout",
     "output_type": "stream",
     "text": [
      "Uploading model for 'vvs' as asset 'projects/ee-mortezakhazaei1370/assets/AIEM_ensemble_trees_vvs_n15_md15_665696' with features: ['vh', 'vv', 'angle', 'rvi', 'year', 'doy', 'lc', 'op']\n",
      "Uploading model for 's' as asset 'projects/ee-mortezakhazaei1370/assets/AIEM_ensemble_trees_s_n15_md15_68e058' with features: ['vh', 'vv', 'angle', 'rvi', 'year', 'doy', 'lc', 'op']\n",
      "Uploading model for 'l' as asset 'projects/ee-mortezakhazaei1370/assets/AIEM_ensemble_trees_l_n15_md15_529b4d' with features: ['vh', 'vv', 'angle', 'rvi', 'year', 'doy', 'lc', 'op']\n",
      "Uploading model for 'ssm' as asset 'projects/ee-mortezakhazaei1370/assets/AIEM_ensemble_trees_ssm_n15_md15_930561' with features: ['angle', 'vvs', 's', 'l', 'year', 'doy', 'lc', 'op']\n"
     ]
    }
   ],
   "source": [
    "gee_project_id = 'ee-mortezakhazaei1370'\n",
    "RT_models = {'RT_s': 'AIEM', 'RT_c': 'Diff'}\n",
    "ensrf.upload_rf_to_gee(rf_models, gee_project_id, rt_models=RT_models)"
   ]
  }
 ],
 "metadata": {
  "kernelspec": {
   "display_name": ".venv (3.11.2)",
   "language": "python",
   "name": "python3"
  },
  "language_info": {
   "codemirror_mode": {
    "name": "ipython",
    "version": 3
   },
   "file_extension": ".py",
   "mimetype": "text/x-python",
   "name": "python",
   "nbconvert_exporter": "python",
   "pygments_lexer": "ipython3",
   "version": "3.11.2"
  }
 },
 "nbformat": 4,
 "nbformat_minor": 5
}
