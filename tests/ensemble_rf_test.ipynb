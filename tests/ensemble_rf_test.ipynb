{
 "cells": [
  {
   "cell_type": "code",
   "execution_count": 1,
   "id": "7e834ae6",
   "metadata": {},
   "outputs": [],
   "source": [
    "from nitropulse import RegressionRF"
   ]
  },
  {
   "cell_type": "code",
   "execution_count": 2,
   "id": "109377be",
   "metadata": {},
   "outputs": [
    {
     "data": {
      "text/html": [
       "\n",
       "            <style>\n",
       "                .geemap-dark {\n",
       "                    --jp-widgets-color: white;\n",
       "                    --jp-widgets-label-color: white;\n",
       "                    --jp-ui-font-color1: white;\n",
       "                    --jp-layout-color2: #454545;\n",
       "                    background-color: #383838;\n",
       "                }\n",
       "\n",
       "                .geemap-dark .jupyter-button {\n",
       "                    --jp-layout-color3: #383838;\n",
       "                }\n",
       "\n",
       "                .geemap-colab {\n",
       "                    background-color: var(--colab-primary-surface-color, white);\n",
       "                }\n",
       "\n",
       "                .geemap-colab .jupyter-button {\n",
       "                    --jp-layout-color3: var(--colab-primary-surface-color, white);\n",
       "                }\n",
       "            </style>\n",
       "            "
      ],
      "text/plain": [
       "<IPython.core.display.HTML object>"
      ]
     },
     "metadata": {},
     "output_type": "display_data"
    }
   ],
   "source": [
    "import pandas as pd"
   ]
  },
  {
   "cell_type": "code",
   "execution_count": 4,
   "id": "060a93f3",
   "metadata": {},
   "outputs": [
    {
     "data": {
      "text/html": [
       "\n",
       "            <style>\n",
       "                .geemap-dark {\n",
       "                    --jp-widgets-color: white;\n",
       "                    --jp-widgets-label-color: white;\n",
       "                    --jp-ui-font-color1: white;\n",
       "                    --jp-layout-color2: #454545;\n",
       "                    background-color: #383838;\n",
       "                }\n",
       "\n",
       "                .geemap-dark .jupyter-button {\n",
       "                    --jp-layout-color3: #383838;\n",
       "                }\n",
       "\n",
       "                .geemap-colab {\n",
       "                    background-color: var(--colab-primary-surface-color, white);\n",
       "                }\n",
       "\n",
       "                .geemap-colab .jupyter-button {\n",
       "                    --jp-layout-color3: var(--colab-primary-surface-color, white);\n",
       "                }\n",
       "            </style>\n",
       "            "
      ],
      "text/plain": [
       "<IPython.core.display.HTML object>"
      ]
     },
     "metadata": {},
     "output_type": "display_data"
    },
    {
     "name": "stdout",
     "output_type": "stream",
     "text": [
      "(4072, 39)\n"
     ]
    },
    {
     "data": {
      "text/html": [
       "<div>\n",
       "<style scoped>\n",
       "    .dataframe tbody tr th:only-of-type {\n",
       "        vertical-align: middle;\n",
       "    }\n",
       "\n",
       "    .dataframe tbody tr th {\n",
       "        vertical-align: top;\n",
       "    }\n",
       "\n",
       "    .dataframe thead th {\n",
       "        text-align: right;\n",
       "    }\n",
       "</style>\n",
       "<table border=\"1\" class=\"dataframe\">\n",
       "  <thead>\n",
       "    <tr style=\"text-align: right;\">\n",
       "      <th></th>\n",
       "      <th>date</th>\n",
       "      <th>station</th>\n",
       "      <th>depth</th>\n",
       "      <th>op</th>\n",
       "      <th>mean_sst</th>\n",
       "      <th>mean_airt</th>\n",
       "      <th>SSM</th>\n",
       "      <th>SST</th>\n",
       "      <th>year</th>\n",
       "      <th>doy</th>\n",
       "      <th>...</th>\n",
       "      <th>c</th>\n",
       "      <th>w</th>\n",
       "      <th>vvv</th>\n",
       "      <th>vvs</th>\n",
       "      <th>s</th>\n",
       "      <th>l</th>\n",
       "      <th>rvi</th>\n",
       "      <th>height</th>\n",
       "      <th>k</th>\n",
       "      <th>b</th>\n",
       "    </tr>\n",
       "  </thead>\n",
       "  <tbody>\n",
       "    <tr>\n",
       "      <th>0</th>\n",
       "      <td>2015-04-25</td>\n",
       "      <td>MB1</td>\n",
       "      <td>0 to 5 cm</td>\n",
       "      <td>0</td>\n",
       "      <td>10.185</td>\n",
       "      <td>7.835</td>\n",
       "      <td>0.130000</td>\n",
       "      <td>14.977778</td>\n",
       "      <td>2015</td>\n",
       "      <td>115</td>\n",
       "      <td>...</td>\n",
       "      <td>0.172416</td>\n",
       "      <td>0.072577</td>\n",
       "      <td>-15.545188</td>\n",
       "      <td>-16.531265</td>\n",
       "      <td>0.003030</td>\n",
       "      <td>0.075</td>\n",
       "      <td>0.665350</td>\n",
       "      <td>0.542280</td>\n",
       "      <td>80.0</td>\n",
       "      <td>1.0</td>\n",
       "    </tr>\n",
       "    <tr>\n",
       "      <th>1</th>\n",
       "      <td>2015-04-25</td>\n",
       "      <td>MB11</td>\n",
       "      <td>0 to 5 cm</td>\n",
       "      <td>0</td>\n",
       "      <td>8.635</td>\n",
       "      <td>8.380</td>\n",
       "      <td>0.272222</td>\n",
       "      <td>12.577778</td>\n",
       "      <td>2015</td>\n",
       "      <td>115</td>\n",
       "      <td>...</td>\n",
       "      <td>0.465704</td>\n",
       "      <td>0.048552</td>\n",
       "      <td>-16.708424</td>\n",
       "      <td>-17.334737</td>\n",
       "      <td>0.002425</td>\n",
       "      <td>0.075</td>\n",
       "      <td>0.547228</td>\n",
       "      <td>0.228891</td>\n",
       "      <td>40.0</td>\n",
       "      <td>1.0</td>\n",
       "    </tr>\n",
       "    <tr>\n",
       "      <th>2</th>\n",
       "      <td>2015-04-25</td>\n",
       "      <td>MB12</td>\n",
       "      <td>0 to 5 cm</td>\n",
       "      <td>0</td>\n",
       "      <td>5.350</td>\n",
       "      <td>8.015</td>\n",
       "      <td>0.310000</td>\n",
       "      <td>14.266667</td>\n",
       "      <td>2015</td>\n",
       "      <td>115</td>\n",
       "      <td>...</td>\n",
       "      <td>0.470343</td>\n",
       "      <td>0.004272</td>\n",
       "      <td>-15.682515</td>\n",
       "      <td>-14.428321</td>\n",
       "      <td>0.003336</td>\n",
       "      <td>0.075</td>\n",
       "      <td>0.363636</td>\n",
       "      <td>0.300909</td>\n",
       "      <td>80.0</td>\n",
       "      <td>1.0</td>\n",
       "    </tr>\n",
       "    <tr>\n",
       "      <th>3</th>\n",
       "      <td>2015-04-25</td>\n",
       "      <td>MB2</td>\n",
       "      <td>0 to 5 cm</td>\n",
       "      <td>0</td>\n",
       "      <td>13.265</td>\n",
       "      <td>8.305</td>\n",
       "      <td>0.340000</td>\n",
       "      <td>15.955556</td>\n",
       "      <td>2015</td>\n",
       "      <td>115</td>\n",
       "      <td>...</td>\n",
       "      <td>0.467735</td>\n",
       "      <td>0.003781</td>\n",
       "      <td>-12.572002</td>\n",
       "      <td>-11.512997</td>\n",
       "      <td>0.004707</td>\n",
       "      <td>0.075</td>\n",
       "      <td>0.363636</td>\n",
       "      <td>0.300909</td>\n",
       "      <td>80.0</td>\n",
       "      <td>1.0</td>\n",
       "    </tr>\n",
       "    <tr>\n",
       "      <th>4</th>\n",
       "      <td>2015-04-25</td>\n",
       "      <td>MB3</td>\n",
       "      <td>0 to 5 cm</td>\n",
       "      <td>0</td>\n",
       "      <td>8.715</td>\n",
       "      <td>9.005</td>\n",
       "      <td>0.270000</td>\n",
       "      <td>12.766667</td>\n",
       "      <td>2015</td>\n",
       "      <td>115</td>\n",
       "      <td>...</td>\n",
       "      <td>0.440706</td>\n",
       "      <td>0.097790</td>\n",
       "      <td>-15.464402</td>\n",
       "      <td>-16.634817</td>\n",
       "      <td>0.002358</td>\n",
       "      <td>0.075</td>\n",
       "      <td>0.447263</td>\n",
       "      <td>0.188905</td>\n",
       "      <td>40.0</td>\n",
       "      <td>1.0</td>\n",
       "    </tr>\n",
       "  </tbody>\n",
       "</table>\n",
       "<p>5 rows × 39 columns</p>\n",
       "</div>"
      ],
      "text/plain": [
       "        date station      depth  op  mean_sst  mean_airt       SSM        SST  \\\n",
       "0 2015-04-25     MB1  0 to 5 cm   0    10.185      7.835  0.130000  14.977778   \n",
       "1 2015-04-25    MB11  0 to 5 cm   0     8.635      8.380  0.272222  12.577778   \n",
       "2 2015-04-25    MB12  0 to 5 cm   0     5.350      8.015  0.310000  14.266667   \n",
       "3 2015-04-25     MB2  0 to 5 cm   0    13.265      8.305  0.340000  15.955556   \n",
       "4 2015-04-25     MB3  0 to 5 cm   0     8.715      9.005  0.270000  12.766667   \n",
       "\n",
       "   year  doy  ...         c         w        vvv        vvs         s      l  \\\n",
       "0  2015  115  ...  0.172416  0.072577 -15.545188 -16.531265  0.003030  0.075   \n",
       "1  2015  115  ...  0.465704  0.048552 -16.708424 -17.334737  0.002425  0.075   \n",
       "2  2015  115  ...  0.470343  0.004272 -15.682515 -14.428321  0.003336  0.075   \n",
       "3  2015  115  ...  0.467735  0.003781 -12.572002 -11.512997  0.004707  0.075   \n",
       "4  2015  115  ...  0.440706  0.097790 -15.464402 -16.634817  0.002358  0.075   \n",
       "\n",
       "        rvi    height     k    b  \n",
       "0  0.665350  0.542280  80.0  1.0  \n",
       "1  0.547228  0.228891  40.0  1.0  \n",
       "2  0.363636  0.300909  80.0  1.0  \n",
       "3  0.363636  0.300909  80.0  1.0  \n",
       "4  0.447263  0.188905  40.0  1.0  \n",
       "\n",
       "[5 rows x 39 columns]"
      ]
     },
     "execution_count": 4,
     "metadata": {},
     "output_type": "execute_result"
    }
   ],
   "source": [
    "# Load df from CSV\n",
    "inv_df = pd.read_csv(\"/home/morteza/.nitropulse/outputs/inv_df.csv\", parse_dates=['date'])\n",
    "\n",
    "print(inv_df.shape)\n",
    "inv_df.head()"
   ]
  },
  {
   "cell_type": "code",
   "execution_count": 5,
   "id": "bf5c5cbe",
   "metadata": {},
   "outputs": [
    {
     "data": {
      "text/html": [
       "\n",
       "            <style>\n",
       "                .geemap-dark {\n",
       "                    --jp-widgets-color: white;\n",
       "                    --jp-widgets-label-color: white;\n",
       "                    --jp-ui-font-color1: white;\n",
       "                    --jp-layout-color2: #454545;\n",
       "                    background-color: #383838;\n",
       "                }\n",
       "\n",
       "                .geemap-dark .jupyter-button {\n",
       "                    --jp-layout-color3: #383838;\n",
       "                }\n",
       "\n",
       "                .geemap-colab {\n",
       "                    background-color: var(--colab-primary-surface-color, white);\n",
       "                }\n",
       "\n",
       "                .geemap-colab .jupyter-button {\n",
       "                    --jp-layout-color3: var(--colab-primary-surface-color, white);\n",
       "                }\n",
       "            </style>\n",
       "            "
      ],
      "text/plain": [
       "<IPython.core.display.HTML object>"
      ]
     },
     "metadata": {},
     "output_type": "display_data"
    },
    {
     "data": {
      "application/vnd.jupyter.widget-view+json": {
       "model_id": "1fe3c4e113e54d7489f3c2d53268724c",
       "version_major": 2,
       "version_minor": 0
      },
      "text/plain": [
       "Training ensemble models:   0%|          | 0/3 [00:00<?, ?it/s]"
      ]
     },
     "metadata": {},
     "output_type": "display_data"
    },
    {
     "name": "stdout",
     "output_type": "stream",
     "text": [
      "Metrics for SSM:\n",
      "\tR2: 0.4209\n",
      "\tMAE: 0.0682\n",
      "\tMSE: 0.0077\n",
      "\tRMSE: 0.0878\n",
      "\tUBRMSE: 0.0878\n",
      "\tBias: -0.0010\n",
      "\n",
      "Metrics for vvs:\n",
      "\tR2: 0.8641\n",
      "\tMAE: 0.8021\n",
      "\tMSE: 4.5665\n",
      "\tRMSE: 2.1369\n",
      "\tUBRMSE: 2.1353\n",
      "\tBias: 0.0827\n",
      "\n",
      "Metrics for s:\n",
      "\tR2: -12.5713\n",
      "\tMAE: 0.0012\n",
      "\tMSE: 0.0001\n",
      "\tRMSE: 0.0090\n",
      "\tUBRMSE: 0.0090\n",
      "\tBias: -0.0006\n",
      "\n"
     ]
    }
   ],
   "source": [
    "ensrf = RegressionRF(workspace_dir='../assets', df=inv_df)\n",
    "rf_models = ensrf.run(vars=['SSM', 'vvs', 's'])"
   ]
  },
  {
   "cell_type": "code",
   "execution_count": null,
   "id": "40fdc20f",
   "metadata": {},
   "outputs": [
    {
     "data": {
      "text/html": [
       "\n",
       "            <style>\n",
       "                .geemap-dark {\n",
       "                    --jp-widgets-color: white;\n",
       "                    --jp-widgets-label-color: white;\n",
       "                    --jp-ui-font-color1: white;\n",
       "                    --jp-layout-color2: #454545;\n",
       "                    background-color: #383838;\n",
       "                }\n",
       "\n",
       "                .geemap-dark .jupyter-button {\n",
       "                    --jp-layout-color3: #383838;\n",
       "                }\n",
       "\n",
       "                .geemap-colab {\n",
       "                    background-color: var(--colab-primary-surface-color, white);\n",
       "                }\n",
       "\n",
       "                .geemap-colab .jupyter-button {\n",
       "                    --jp-layout-color3: var(--colab-primary-surface-color, white);\n",
       "                }\n",
       "            </style>\n",
       "            "
      ],
      "text/plain": [
       "<IPython.core.display.HTML object>"
      ]
     },
     "metadata": {},
     "output_type": "display_data"
    },
    {
     "name": "stdout",
     "output_type": "stream",
     "text": [
      "Earth Engine initialized.\n"
     ]
    }
   ],
   "source": [
    "passed = ensrf.upload_rf_to_gee(rf_models, gee_project_id='ee-mortezakhazaei1370', save_dectree=True)"
   ]
  }
 ],
 "metadata": {
  "kernelspec": {
   "display_name": ".venv (3.11.2)",
   "language": "python",
   "name": "python3"
  },
  "language_info": {
   "codemirror_mode": {
    "name": "ipython",
    "version": 3
   },
   "file_extension": ".py",
   "mimetype": "text/x-python",
   "name": "python",
   "nbconvert_exporter": "python",
   "pygments_lexer": "ipython3",
   "version": "3.11.2"
  }
 },
 "nbformat": 4,
 "nbformat_minor": 5
}
